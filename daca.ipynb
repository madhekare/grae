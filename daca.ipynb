{
  "nbformat": 4,
  "nbformat_minor": 0,
  "metadata": {
    "kernelspec": {
      "display_name": "Python 3",
      "language": "python",
      "name": "python3"
    },
    "language_info": {
      "codemirror_mode": {
        "name": "ipython",
        "version": 3
      },
      "file_extension": ".py",
      "mimetype": "text/x-python",
      "name": "python",
      "nbconvert_exporter": "python",
      "pygments_lexer": "ipython3",
      "version": "3.7.4"
    },
    "colab": {
      "name": "daca.ipynb",
      "provenance": [],
      "collapsed_sections": [],
      "include_colab_link": true
    },
    "widgets": {
      "application/vnd.jupyter.widget-state+json": {
        "ca90f060764146e1af778d668e8c0e26": {
          "model_module": "@jupyter-widgets/controls",
          "model_name": "HBoxModel",
          "state": {
            "_view_name": "HBoxView",
            "_dom_classes": [],
            "_model_name": "HBoxModel",
            "_view_module": "@jupyter-widgets/controls",
            "_model_module_version": "1.5.0",
            "_view_count": null,
            "_view_module_version": "1.5.0",
            "box_style": "",
            "layout": "IPY_MODEL_7f3f7f35f8a44090b842e88934b65efb",
            "_model_module": "@jupyter-widgets/controls",
            "children": [
              "IPY_MODEL_6a4283d4a47a41b58b1f71ed2689aa8f",
              "IPY_MODEL_9ffe0d08f42b40cea6e648c48d8c442b"
            ]
          }
        },
        "7f3f7f35f8a44090b842e88934b65efb": {
          "model_module": "@jupyter-widgets/base",
          "model_name": "LayoutModel",
          "state": {
            "_view_name": "LayoutView",
            "grid_template_rows": null,
            "right": null,
            "justify_content": null,
            "_view_module": "@jupyter-widgets/base",
            "overflow": null,
            "_model_module_version": "1.2.0",
            "_view_count": null,
            "flex_flow": null,
            "width": null,
            "min_width": null,
            "border": null,
            "align_items": null,
            "bottom": null,
            "_model_module": "@jupyter-widgets/base",
            "top": null,
            "grid_column": null,
            "overflow_y": null,
            "overflow_x": null,
            "grid_auto_flow": null,
            "grid_area": null,
            "grid_template_columns": null,
            "flex": null,
            "_model_name": "LayoutModel",
            "justify_items": null,
            "grid_row": null,
            "max_height": null,
            "align_content": null,
            "visibility": null,
            "align_self": null,
            "height": null,
            "min_height": null,
            "padding": null,
            "grid_auto_rows": null,
            "grid_gap": null,
            "max_width": null,
            "order": null,
            "_view_module_version": "1.2.0",
            "grid_template_areas": null,
            "object_position": null,
            "object_fit": null,
            "grid_auto_columns": null,
            "margin": null,
            "display": null,
            "left": null
          }
        },
        "6a4283d4a47a41b58b1f71ed2689aa8f": {
          "model_module": "@jupyter-widgets/controls",
          "model_name": "FloatProgressModel",
          "state": {
            "_view_name": "ProgressView",
            "style": "IPY_MODEL_e5fada7073b54417a1f66a3e7154b29f",
            "_dom_classes": [],
            "description": "Downloading: 100%",
            "_model_name": "FloatProgressModel",
            "bar_style": "success",
            "max": 570,
            "_view_module": "@jupyter-widgets/controls",
            "_model_module_version": "1.5.0",
            "value": 570,
            "_view_count": null,
            "_view_module_version": "1.5.0",
            "orientation": "horizontal",
            "min": 0,
            "description_tooltip": null,
            "_model_module": "@jupyter-widgets/controls",
            "layout": "IPY_MODEL_a54bf357a5cc4cd2a1d61fe00b66b31b"
          }
        },
        "9ffe0d08f42b40cea6e648c48d8c442b": {
          "model_module": "@jupyter-widgets/controls",
          "model_name": "HTMLModel",
          "state": {
            "_view_name": "HTMLView",
            "style": "IPY_MODEL_371e7bf99997440c8a45992d71c131eb",
            "_dom_classes": [],
            "description": "",
            "_model_name": "HTMLModel",
            "placeholder": "​",
            "_view_module": "@jupyter-widgets/controls",
            "_model_module_version": "1.5.0",
            "value": " 570/570 [00:12&lt;00:00, 44.3B/s]",
            "_view_count": null,
            "_view_module_version": "1.5.0",
            "description_tooltip": null,
            "_model_module": "@jupyter-widgets/controls",
            "layout": "IPY_MODEL_0df88b3bf8f44f96981d7d71d2830488"
          }
        },
        "e5fada7073b54417a1f66a3e7154b29f": {
          "model_module": "@jupyter-widgets/controls",
          "model_name": "ProgressStyleModel",
          "state": {
            "_view_name": "StyleView",
            "_model_name": "ProgressStyleModel",
            "description_width": "initial",
            "_view_module": "@jupyter-widgets/base",
            "_model_module_version": "1.5.0",
            "_view_count": null,
            "_view_module_version": "1.2.0",
            "bar_color": null,
            "_model_module": "@jupyter-widgets/controls"
          }
        },
        "a54bf357a5cc4cd2a1d61fe00b66b31b": {
          "model_module": "@jupyter-widgets/base",
          "model_name": "LayoutModel",
          "state": {
            "_view_name": "LayoutView",
            "grid_template_rows": null,
            "right": null,
            "justify_content": null,
            "_view_module": "@jupyter-widgets/base",
            "overflow": null,
            "_model_module_version": "1.2.0",
            "_view_count": null,
            "flex_flow": null,
            "width": null,
            "min_width": null,
            "border": null,
            "align_items": null,
            "bottom": null,
            "_model_module": "@jupyter-widgets/base",
            "top": null,
            "grid_column": null,
            "overflow_y": null,
            "overflow_x": null,
            "grid_auto_flow": null,
            "grid_area": null,
            "grid_template_columns": null,
            "flex": null,
            "_model_name": "LayoutModel",
            "justify_items": null,
            "grid_row": null,
            "max_height": null,
            "align_content": null,
            "visibility": null,
            "align_self": null,
            "height": null,
            "min_height": null,
            "padding": null,
            "grid_auto_rows": null,
            "grid_gap": null,
            "max_width": null,
            "order": null,
            "_view_module_version": "1.2.0",
            "grid_template_areas": null,
            "object_position": null,
            "object_fit": null,
            "grid_auto_columns": null,
            "margin": null,
            "display": null,
            "left": null
          }
        },
        "371e7bf99997440c8a45992d71c131eb": {
          "model_module": "@jupyter-widgets/controls",
          "model_name": "DescriptionStyleModel",
          "state": {
            "_view_name": "StyleView",
            "_model_name": "DescriptionStyleModel",
            "description_width": "",
            "_view_module": "@jupyter-widgets/base",
            "_model_module_version": "1.5.0",
            "_view_count": null,
            "_view_module_version": "1.2.0",
            "_model_module": "@jupyter-widgets/controls"
          }
        },
        "0df88b3bf8f44f96981d7d71d2830488": {
          "model_module": "@jupyter-widgets/base",
          "model_name": "LayoutModel",
          "state": {
            "_view_name": "LayoutView",
            "grid_template_rows": null,
            "right": null,
            "justify_content": null,
            "_view_module": "@jupyter-widgets/base",
            "overflow": null,
            "_model_module_version": "1.2.0",
            "_view_count": null,
            "flex_flow": null,
            "width": null,
            "min_width": null,
            "border": null,
            "align_items": null,
            "bottom": null,
            "_model_module": "@jupyter-widgets/base",
            "top": null,
            "grid_column": null,
            "overflow_y": null,
            "overflow_x": null,
            "grid_auto_flow": null,
            "grid_area": null,
            "grid_template_columns": null,
            "flex": null,
            "_model_name": "LayoutModel",
            "justify_items": null,
            "grid_row": null,
            "max_height": null,
            "align_content": null,
            "visibility": null,
            "align_self": null,
            "height": null,
            "min_height": null,
            "padding": null,
            "grid_auto_rows": null,
            "grid_gap": null,
            "max_width": null,
            "order": null,
            "_view_module_version": "1.2.0",
            "grid_template_areas": null,
            "object_position": null,
            "object_fit": null,
            "grid_auto_columns": null,
            "margin": null,
            "display": null,
            "left": null
          }
        },
        "99e5b95d81e2484389ec8037c1f228dd": {
          "model_module": "@jupyter-widgets/controls",
          "model_name": "HBoxModel",
          "state": {
            "_view_name": "HBoxView",
            "_dom_classes": [],
            "_model_name": "HBoxModel",
            "_view_module": "@jupyter-widgets/controls",
            "_model_module_version": "1.5.0",
            "_view_count": null,
            "_view_module_version": "1.5.0",
            "box_style": "",
            "layout": "IPY_MODEL_a2a3bb4f8de9462b9f5c2764856bc48c",
            "_model_module": "@jupyter-widgets/controls",
            "children": [
              "IPY_MODEL_bfb0d9d93d2e4599ba7248a021a3b88e",
              "IPY_MODEL_17602815dfde45f682542d78f1d4b330"
            ]
          }
        },
        "a2a3bb4f8de9462b9f5c2764856bc48c": {
          "model_module": "@jupyter-widgets/base",
          "model_name": "LayoutModel",
          "state": {
            "_view_name": "LayoutView",
            "grid_template_rows": null,
            "right": null,
            "justify_content": null,
            "_view_module": "@jupyter-widgets/base",
            "overflow": null,
            "_model_module_version": "1.2.0",
            "_view_count": null,
            "flex_flow": null,
            "width": null,
            "min_width": null,
            "border": null,
            "align_items": null,
            "bottom": null,
            "_model_module": "@jupyter-widgets/base",
            "top": null,
            "grid_column": null,
            "overflow_y": null,
            "overflow_x": null,
            "grid_auto_flow": null,
            "grid_area": null,
            "grid_template_columns": null,
            "flex": null,
            "_model_name": "LayoutModel",
            "justify_items": null,
            "grid_row": null,
            "max_height": null,
            "align_content": null,
            "visibility": null,
            "align_self": null,
            "height": null,
            "min_height": null,
            "padding": null,
            "grid_auto_rows": null,
            "grid_gap": null,
            "max_width": null,
            "order": null,
            "_view_module_version": "1.2.0",
            "grid_template_areas": null,
            "object_position": null,
            "object_fit": null,
            "grid_auto_columns": null,
            "margin": null,
            "display": null,
            "left": null
          }
        },
        "bfb0d9d93d2e4599ba7248a021a3b88e": {
          "model_module": "@jupyter-widgets/controls",
          "model_name": "FloatProgressModel",
          "state": {
            "_view_name": "ProgressView",
            "style": "IPY_MODEL_76e0591bbbac4d898e8fc8ad3ec4bc8b",
            "_dom_classes": [],
            "description": "Downloading: 100%",
            "_model_name": "FloatProgressModel",
            "bar_style": "success",
            "max": 536063208,
            "_view_module": "@jupyter-widgets/controls",
            "_model_module_version": "1.5.0",
            "value": 536063208,
            "_view_count": null,
            "_view_module_version": "1.5.0",
            "orientation": "horizontal",
            "min": 0,
            "description_tooltip": null,
            "_model_module": "@jupyter-widgets/controls",
            "layout": "IPY_MODEL_b0feb00bee99432da1721efdca48bf48"
          }
        },
        "17602815dfde45f682542d78f1d4b330": {
          "model_module": "@jupyter-widgets/controls",
          "model_name": "HTMLModel",
          "state": {
            "_view_name": "HTMLView",
            "style": "IPY_MODEL_b4e23671bde2435eb0a8027b1b38199b",
            "_dom_classes": [],
            "description": "",
            "_model_name": "HTMLModel",
            "placeholder": "​",
            "_view_module": "@jupyter-widgets/controls",
            "_model_module_version": "1.5.0",
            "value": " 536M/536M [00:11&lt;00:00, 44.8MB/s]",
            "_view_count": null,
            "_view_module_version": "1.5.0",
            "description_tooltip": null,
            "_model_module": "@jupyter-widgets/controls",
            "layout": "IPY_MODEL_42773b8dfae54e198daad50df29c9f32"
          }
        },
        "76e0591bbbac4d898e8fc8ad3ec4bc8b": {
          "model_module": "@jupyter-widgets/controls",
          "model_name": "ProgressStyleModel",
          "state": {
            "_view_name": "StyleView",
            "_model_name": "ProgressStyleModel",
            "description_width": "initial",
            "_view_module": "@jupyter-widgets/base",
            "_model_module_version": "1.5.0",
            "_view_count": null,
            "_view_module_version": "1.2.0",
            "bar_color": null,
            "_model_module": "@jupyter-widgets/controls"
          }
        },
        "b0feb00bee99432da1721efdca48bf48": {
          "model_module": "@jupyter-widgets/base",
          "model_name": "LayoutModel",
          "state": {
            "_view_name": "LayoutView",
            "grid_template_rows": null,
            "right": null,
            "justify_content": null,
            "_view_module": "@jupyter-widgets/base",
            "overflow": null,
            "_model_module_version": "1.2.0",
            "_view_count": null,
            "flex_flow": null,
            "width": null,
            "min_width": null,
            "border": null,
            "align_items": null,
            "bottom": null,
            "_model_module": "@jupyter-widgets/base",
            "top": null,
            "grid_column": null,
            "overflow_y": null,
            "overflow_x": null,
            "grid_auto_flow": null,
            "grid_area": null,
            "grid_template_columns": null,
            "flex": null,
            "_model_name": "LayoutModel",
            "justify_items": null,
            "grid_row": null,
            "max_height": null,
            "align_content": null,
            "visibility": null,
            "align_self": null,
            "height": null,
            "min_height": null,
            "padding": null,
            "grid_auto_rows": null,
            "grid_gap": null,
            "max_width": null,
            "order": null,
            "_view_module_version": "1.2.0",
            "grid_template_areas": null,
            "object_position": null,
            "object_fit": null,
            "grid_auto_columns": null,
            "margin": null,
            "display": null,
            "left": null
          }
        },
        "b4e23671bde2435eb0a8027b1b38199b": {
          "model_module": "@jupyter-widgets/controls",
          "model_name": "DescriptionStyleModel",
          "state": {
            "_view_name": "StyleView",
            "_model_name": "DescriptionStyleModel",
            "description_width": "",
            "_view_module": "@jupyter-widgets/base",
            "_model_module_version": "1.5.0",
            "_view_count": null,
            "_view_module_version": "1.2.0",
            "_model_module": "@jupyter-widgets/controls"
          }
        },
        "42773b8dfae54e198daad50df29c9f32": {
          "model_module": "@jupyter-widgets/base",
          "model_name": "LayoutModel",
          "state": {
            "_view_name": "LayoutView",
            "grid_template_rows": null,
            "right": null,
            "justify_content": null,
            "_view_module": "@jupyter-widgets/base",
            "overflow": null,
            "_model_module_version": "1.2.0",
            "_view_count": null,
            "flex_flow": null,
            "width": null,
            "min_width": null,
            "border": null,
            "align_items": null,
            "bottom": null,
            "_model_module": "@jupyter-widgets/base",
            "top": null,
            "grid_column": null,
            "overflow_y": null,
            "overflow_x": null,
            "grid_auto_flow": null,
            "grid_area": null,
            "grid_template_columns": null,
            "flex": null,
            "_model_name": "LayoutModel",
            "justify_items": null,
            "grid_row": null,
            "max_height": null,
            "align_content": null,
            "visibility": null,
            "align_self": null,
            "height": null,
            "min_height": null,
            "padding": null,
            "grid_auto_rows": null,
            "grid_gap": null,
            "max_width": null,
            "order": null,
            "_view_module_version": "1.2.0",
            "grid_template_areas": null,
            "object_position": null,
            "object_fit": null,
            "grid_auto_columns": null,
            "margin": null,
            "display": null,
            "left": null
          }
        },
        "06e32355d419485594a4db32262ab76d": {
          "model_module": "@jupyter-widgets/controls",
          "model_name": "HBoxModel",
          "state": {
            "_view_name": "HBoxView",
            "_dom_classes": [],
            "_model_name": "HBoxModel",
            "_view_module": "@jupyter-widgets/controls",
            "_model_module_version": "1.5.0",
            "_view_count": null,
            "_view_module_version": "1.5.0",
            "box_style": "",
            "layout": "IPY_MODEL_6e1d0a2d494440a1b0ecd2f6842d592c",
            "_model_module": "@jupyter-widgets/controls",
            "children": [
              "IPY_MODEL_d8f0964fd36f48bba34425d59b7303b3",
              "IPY_MODEL_af2e2459ab3b479ca3375d280c4cc2f2"
            ]
          }
        },
        "6e1d0a2d494440a1b0ecd2f6842d592c": {
          "model_module": "@jupyter-widgets/base",
          "model_name": "LayoutModel",
          "state": {
            "_view_name": "LayoutView",
            "grid_template_rows": null,
            "right": null,
            "justify_content": null,
            "_view_module": "@jupyter-widgets/base",
            "overflow": null,
            "_model_module_version": "1.2.0",
            "_view_count": null,
            "flex_flow": null,
            "width": null,
            "min_width": null,
            "border": null,
            "align_items": null,
            "bottom": null,
            "_model_module": "@jupyter-widgets/base",
            "top": null,
            "grid_column": null,
            "overflow_y": null,
            "overflow_x": null,
            "grid_auto_flow": null,
            "grid_area": null,
            "grid_template_columns": null,
            "flex": null,
            "_model_name": "LayoutModel",
            "justify_items": null,
            "grid_row": null,
            "max_height": null,
            "align_content": null,
            "visibility": null,
            "align_self": null,
            "height": null,
            "min_height": null,
            "padding": null,
            "grid_auto_rows": null,
            "grid_gap": null,
            "max_width": null,
            "order": null,
            "_view_module_version": "1.2.0",
            "grid_template_areas": null,
            "object_position": null,
            "object_fit": null,
            "grid_auto_columns": null,
            "margin": null,
            "display": null,
            "left": null
          }
        },
        "d8f0964fd36f48bba34425d59b7303b3": {
          "model_module": "@jupyter-widgets/controls",
          "model_name": "FloatProgressModel",
          "state": {
            "_view_name": "ProgressView",
            "style": "IPY_MODEL_0f29f4d0ad4d4ce4a6ac1009e81686ad",
            "_dom_classes": [],
            "description": "Downloading: 100%",
            "_model_name": "FloatProgressModel",
            "bar_style": "success",
            "max": 231508,
            "_view_module": "@jupyter-widgets/controls",
            "_model_module_version": "1.5.0",
            "value": 231508,
            "_view_count": null,
            "_view_module_version": "1.5.0",
            "orientation": "horizontal",
            "min": 0,
            "description_tooltip": null,
            "_model_module": "@jupyter-widgets/controls",
            "layout": "IPY_MODEL_470dc24a553147fc99bd6cb202f50725"
          }
        },
        "af2e2459ab3b479ca3375d280c4cc2f2": {
          "model_module": "@jupyter-widgets/controls",
          "model_name": "HTMLModel",
          "state": {
            "_view_name": "HTMLView",
            "style": "IPY_MODEL_c065189029cd48cfb76fff1655133902",
            "_dom_classes": [],
            "description": "",
            "_model_name": "HTMLModel",
            "placeholder": "​",
            "_view_module": "@jupyter-widgets/controls",
            "_model_module_version": "1.5.0",
            "value": " 232k/232k [00:03&lt;00:00, 71.4kB/s]",
            "_view_count": null,
            "_view_module_version": "1.5.0",
            "description_tooltip": null,
            "_model_module": "@jupyter-widgets/controls",
            "layout": "IPY_MODEL_0fa9ee0b5d154414a07dad3d6f5c7ab8"
          }
        },
        "0f29f4d0ad4d4ce4a6ac1009e81686ad": {
          "model_module": "@jupyter-widgets/controls",
          "model_name": "ProgressStyleModel",
          "state": {
            "_view_name": "StyleView",
            "_model_name": "ProgressStyleModel",
            "description_width": "initial",
            "_view_module": "@jupyter-widgets/base",
            "_model_module_version": "1.5.0",
            "_view_count": null,
            "_view_module_version": "1.2.0",
            "bar_color": null,
            "_model_module": "@jupyter-widgets/controls"
          }
        },
        "470dc24a553147fc99bd6cb202f50725": {
          "model_module": "@jupyter-widgets/base",
          "model_name": "LayoutModel",
          "state": {
            "_view_name": "LayoutView",
            "grid_template_rows": null,
            "right": null,
            "justify_content": null,
            "_view_module": "@jupyter-widgets/base",
            "overflow": null,
            "_model_module_version": "1.2.0",
            "_view_count": null,
            "flex_flow": null,
            "width": null,
            "min_width": null,
            "border": null,
            "align_items": null,
            "bottom": null,
            "_model_module": "@jupyter-widgets/base",
            "top": null,
            "grid_column": null,
            "overflow_y": null,
            "overflow_x": null,
            "grid_auto_flow": null,
            "grid_area": null,
            "grid_template_columns": null,
            "flex": null,
            "_model_name": "LayoutModel",
            "justify_items": null,
            "grid_row": null,
            "max_height": null,
            "align_content": null,
            "visibility": null,
            "align_self": null,
            "height": null,
            "min_height": null,
            "padding": null,
            "grid_auto_rows": null,
            "grid_gap": null,
            "max_width": null,
            "order": null,
            "_view_module_version": "1.2.0",
            "grid_template_areas": null,
            "object_position": null,
            "object_fit": null,
            "grid_auto_columns": null,
            "margin": null,
            "display": null,
            "left": null
          }
        },
        "c065189029cd48cfb76fff1655133902": {
          "model_module": "@jupyter-widgets/controls",
          "model_name": "DescriptionStyleModel",
          "state": {
            "_view_name": "StyleView",
            "_model_name": "DescriptionStyleModel",
            "description_width": "",
            "_view_module": "@jupyter-widgets/base",
            "_model_module_version": "1.5.0",
            "_view_count": null,
            "_view_module_version": "1.2.0",
            "_model_module": "@jupyter-widgets/controls"
          }
        },
        "0fa9ee0b5d154414a07dad3d6f5c7ab8": {
          "model_module": "@jupyter-widgets/base",
          "model_name": "LayoutModel",
          "state": {
            "_view_name": "LayoutView",
            "grid_template_rows": null,
            "right": null,
            "justify_content": null,
            "_view_module": "@jupyter-widgets/base",
            "overflow": null,
            "_model_module_version": "1.2.0",
            "_view_count": null,
            "flex_flow": null,
            "width": null,
            "min_width": null,
            "border": null,
            "align_items": null,
            "bottom": null,
            "_model_module": "@jupyter-widgets/base",
            "top": null,
            "grid_column": null,
            "overflow_y": null,
            "overflow_x": null,
            "grid_auto_flow": null,
            "grid_area": null,
            "grid_template_columns": null,
            "flex": null,
            "_model_name": "LayoutModel",
            "justify_items": null,
            "grid_row": null,
            "max_height": null,
            "align_content": null,
            "visibility": null,
            "align_self": null,
            "height": null,
            "min_height": null,
            "padding": null,
            "grid_auto_rows": null,
            "grid_gap": null,
            "max_width": null,
            "order": null,
            "_view_module_version": "1.2.0",
            "grid_template_areas": null,
            "object_position": null,
            "object_fit": null,
            "grid_auto_columns": null,
            "margin": null,
            "display": null,
            "left": null
          }
        },
        "651eb4a7eb1143c1a083ee696128ec3e": {
          "model_module": "@jupyter-widgets/controls",
          "model_name": "HBoxModel",
          "state": {
            "_view_name": "HBoxView",
            "_dom_classes": [],
            "_model_name": "HBoxModel",
            "_view_module": "@jupyter-widgets/controls",
            "_model_module_version": "1.5.0",
            "_view_count": null,
            "_view_module_version": "1.5.0",
            "box_style": "",
            "layout": "IPY_MODEL_3365545c2d3345548de813420c948e0e",
            "_model_module": "@jupyter-widgets/controls",
            "children": [
              "IPY_MODEL_0ce509cc404841d5a885229a9fd419cf",
              "IPY_MODEL_c8b676e2e34844018ea038d5c3fcd976"
            ]
          }
        },
        "3365545c2d3345548de813420c948e0e": {
          "model_module": "@jupyter-widgets/base",
          "model_name": "LayoutModel",
          "state": {
            "_view_name": "LayoutView",
            "grid_template_rows": null,
            "right": null,
            "justify_content": null,
            "_view_module": "@jupyter-widgets/base",
            "overflow": null,
            "_model_module_version": "1.2.0",
            "_view_count": null,
            "flex_flow": null,
            "width": null,
            "min_width": null,
            "border": null,
            "align_items": null,
            "bottom": null,
            "_model_module": "@jupyter-widgets/base",
            "top": null,
            "grid_column": null,
            "overflow_y": null,
            "overflow_x": null,
            "grid_auto_flow": null,
            "grid_area": null,
            "grid_template_columns": null,
            "flex": null,
            "_model_name": "LayoutModel",
            "justify_items": null,
            "grid_row": null,
            "max_height": null,
            "align_content": null,
            "visibility": null,
            "align_self": null,
            "height": null,
            "min_height": null,
            "padding": null,
            "grid_auto_rows": null,
            "grid_gap": null,
            "max_width": null,
            "order": null,
            "_view_module_version": "1.2.0",
            "grid_template_areas": null,
            "object_position": null,
            "object_fit": null,
            "grid_auto_columns": null,
            "margin": null,
            "display": null,
            "left": null
          }
        },
        "0ce509cc404841d5a885229a9fd419cf": {
          "model_module": "@jupyter-widgets/controls",
          "model_name": "FloatProgressModel",
          "state": {
            "_view_name": "ProgressView",
            "style": "IPY_MODEL_7476c92d018d46cbb5238cd3ee3ad5d4",
            "_dom_classes": [],
            "description": "Downloading: 100%",
            "_model_name": "FloatProgressModel",
            "bar_style": "success",
            "max": 28,
            "_view_module": "@jupyter-widgets/controls",
            "_model_module_version": "1.5.0",
            "value": 28,
            "_view_count": null,
            "_view_module_version": "1.5.0",
            "orientation": "horizontal",
            "min": 0,
            "description_tooltip": null,
            "_model_module": "@jupyter-widgets/controls",
            "layout": "IPY_MODEL_1723f670babb49bcaaa63d8cb28c161d"
          }
        },
        "c8b676e2e34844018ea038d5c3fcd976": {
          "model_module": "@jupyter-widgets/controls",
          "model_name": "HTMLModel",
          "state": {
            "_view_name": "HTMLView",
            "style": "IPY_MODEL_b863dab925cf4b22b0e3b09a3021b1d5",
            "_dom_classes": [],
            "description": "",
            "_model_name": "HTMLModel",
            "placeholder": "​",
            "_view_module": "@jupyter-widgets/controls",
            "_model_module_version": "1.5.0",
            "value": " 28.0/28.0 [00:02&lt;00:00, 13.2B/s]",
            "_view_count": null,
            "_view_module_version": "1.5.0",
            "description_tooltip": null,
            "_model_module": "@jupyter-widgets/controls",
            "layout": "IPY_MODEL_9e3de09edb7e478db357e8527f6b94a2"
          }
        },
        "7476c92d018d46cbb5238cd3ee3ad5d4": {
          "model_module": "@jupyter-widgets/controls",
          "model_name": "ProgressStyleModel",
          "state": {
            "_view_name": "StyleView",
            "_model_name": "ProgressStyleModel",
            "description_width": "initial",
            "_view_module": "@jupyter-widgets/base",
            "_model_module_version": "1.5.0",
            "_view_count": null,
            "_view_module_version": "1.2.0",
            "bar_color": null,
            "_model_module": "@jupyter-widgets/controls"
          }
        },
        "1723f670babb49bcaaa63d8cb28c161d": {
          "model_module": "@jupyter-widgets/base",
          "model_name": "LayoutModel",
          "state": {
            "_view_name": "LayoutView",
            "grid_template_rows": null,
            "right": null,
            "justify_content": null,
            "_view_module": "@jupyter-widgets/base",
            "overflow": null,
            "_model_module_version": "1.2.0",
            "_view_count": null,
            "flex_flow": null,
            "width": null,
            "min_width": null,
            "border": null,
            "align_items": null,
            "bottom": null,
            "_model_module": "@jupyter-widgets/base",
            "top": null,
            "grid_column": null,
            "overflow_y": null,
            "overflow_x": null,
            "grid_auto_flow": null,
            "grid_area": null,
            "grid_template_columns": null,
            "flex": null,
            "_model_name": "LayoutModel",
            "justify_items": null,
            "grid_row": null,
            "max_height": null,
            "align_content": null,
            "visibility": null,
            "align_self": null,
            "height": null,
            "min_height": null,
            "padding": null,
            "grid_auto_rows": null,
            "grid_gap": null,
            "max_width": null,
            "order": null,
            "_view_module_version": "1.2.0",
            "grid_template_areas": null,
            "object_position": null,
            "object_fit": null,
            "grid_auto_columns": null,
            "margin": null,
            "display": null,
            "left": null
          }
        },
        "b863dab925cf4b22b0e3b09a3021b1d5": {
          "model_module": "@jupyter-widgets/controls",
          "model_name": "DescriptionStyleModel",
          "state": {
            "_view_name": "StyleView",
            "_model_name": "DescriptionStyleModel",
            "description_width": "",
            "_view_module": "@jupyter-widgets/base",
            "_model_module_version": "1.5.0",
            "_view_count": null,
            "_view_module_version": "1.2.0",
            "_model_module": "@jupyter-widgets/controls"
          }
        },
        "9e3de09edb7e478db357e8527f6b94a2": {
          "model_module": "@jupyter-widgets/base",
          "model_name": "LayoutModel",
          "state": {
            "_view_name": "LayoutView",
            "grid_template_rows": null,
            "right": null,
            "justify_content": null,
            "_view_module": "@jupyter-widgets/base",
            "overflow": null,
            "_model_module_version": "1.2.0",
            "_view_count": null,
            "flex_flow": null,
            "width": null,
            "min_width": null,
            "border": null,
            "align_items": null,
            "bottom": null,
            "_model_module": "@jupyter-widgets/base",
            "top": null,
            "grid_column": null,
            "overflow_y": null,
            "overflow_x": null,
            "grid_auto_flow": null,
            "grid_area": null,
            "grid_template_columns": null,
            "flex": null,
            "_model_name": "LayoutModel",
            "justify_items": null,
            "grid_row": null,
            "max_height": null,
            "align_content": null,
            "visibility": null,
            "align_self": null,
            "height": null,
            "min_height": null,
            "padding": null,
            "grid_auto_rows": null,
            "grid_gap": null,
            "max_width": null,
            "order": null,
            "_view_module_version": "1.2.0",
            "grid_template_areas": null,
            "object_position": null,
            "object_fit": null,
            "grid_auto_columns": null,
            "margin": null,
            "display": null,
            "left": null
          }
        },
        "c0dbbcf3a04e4019a08ce35e3c5cac97": {
          "model_module": "@jupyter-widgets/controls",
          "model_name": "HBoxModel",
          "state": {
            "_view_name": "HBoxView",
            "_dom_classes": [],
            "_model_name": "HBoxModel",
            "_view_module": "@jupyter-widgets/controls",
            "_model_module_version": "1.5.0",
            "_view_count": null,
            "_view_module_version": "1.5.0",
            "box_style": "",
            "layout": "IPY_MODEL_10c90c17bd9c462fac889cc709cedbcc",
            "_model_module": "@jupyter-widgets/controls",
            "children": [
              "IPY_MODEL_93e4a0e0da2146feac3434c5eae76bee",
              "IPY_MODEL_14013ea946dd4cadabf2f46882c0a347"
            ]
          }
        },
        "10c90c17bd9c462fac889cc709cedbcc": {
          "model_module": "@jupyter-widgets/base",
          "model_name": "LayoutModel",
          "state": {
            "_view_name": "LayoutView",
            "grid_template_rows": null,
            "right": null,
            "justify_content": null,
            "_view_module": "@jupyter-widgets/base",
            "overflow": null,
            "_model_module_version": "1.2.0",
            "_view_count": null,
            "flex_flow": null,
            "width": null,
            "min_width": null,
            "border": null,
            "align_items": null,
            "bottom": null,
            "_model_module": "@jupyter-widgets/base",
            "top": null,
            "grid_column": null,
            "overflow_y": null,
            "overflow_x": null,
            "grid_auto_flow": null,
            "grid_area": null,
            "grid_template_columns": null,
            "flex": null,
            "_model_name": "LayoutModel",
            "justify_items": null,
            "grid_row": null,
            "max_height": null,
            "align_content": null,
            "visibility": null,
            "align_self": null,
            "height": null,
            "min_height": null,
            "padding": null,
            "grid_auto_rows": null,
            "grid_gap": null,
            "max_width": null,
            "order": null,
            "_view_module_version": "1.2.0",
            "grid_template_areas": null,
            "object_position": null,
            "object_fit": null,
            "grid_auto_columns": null,
            "margin": null,
            "display": null,
            "left": null
          }
        },
        "93e4a0e0da2146feac3434c5eae76bee": {
          "model_module": "@jupyter-widgets/controls",
          "model_name": "FloatProgressModel",
          "state": {
            "_view_name": "ProgressView",
            "style": "IPY_MODEL_f4626f830a6d4d11b53bc9c168c5e39f",
            "_dom_classes": [],
            "description": "Downloading: 100%",
            "_model_name": "FloatProgressModel",
            "bar_style": "success",
            "max": 466062,
            "_view_module": "@jupyter-widgets/controls",
            "_model_module_version": "1.5.0",
            "value": 466062,
            "_view_count": null,
            "_view_module_version": "1.5.0",
            "orientation": "horizontal",
            "min": 0,
            "description_tooltip": null,
            "_model_module": "@jupyter-widgets/controls",
            "layout": "IPY_MODEL_9ef9fdb85c334d01bb4a987d239e716a"
          }
        },
        "14013ea946dd4cadabf2f46882c0a347": {
          "model_module": "@jupyter-widgets/controls",
          "model_name": "HTMLModel",
          "state": {
            "_view_name": "HTMLView",
            "style": "IPY_MODEL_b7734cea1d4f4f4cbf4cdd7bad42a6e7",
            "_dom_classes": [],
            "description": "",
            "_model_name": "HTMLModel",
            "placeholder": "​",
            "_view_module": "@jupyter-widgets/controls",
            "_model_module_version": "1.5.0",
            "value": " 466k/466k [00:00&lt;00:00, 490kB/s]",
            "_view_count": null,
            "_view_module_version": "1.5.0",
            "description_tooltip": null,
            "_model_module": "@jupyter-widgets/controls",
            "layout": "IPY_MODEL_d55301c14a4e4c91a9b25b16c53cebd2"
          }
        },
        "f4626f830a6d4d11b53bc9c168c5e39f": {
          "model_module": "@jupyter-widgets/controls",
          "model_name": "ProgressStyleModel",
          "state": {
            "_view_name": "StyleView",
            "_model_name": "ProgressStyleModel",
            "description_width": "initial",
            "_view_module": "@jupyter-widgets/base",
            "_model_module_version": "1.5.0",
            "_view_count": null,
            "_view_module_version": "1.2.0",
            "bar_color": null,
            "_model_module": "@jupyter-widgets/controls"
          }
        },
        "9ef9fdb85c334d01bb4a987d239e716a": {
          "model_module": "@jupyter-widgets/base",
          "model_name": "LayoutModel",
          "state": {
            "_view_name": "LayoutView",
            "grid_template_rows": null,
            "right": null,
            "justify_content": null,
            "_view_module": "@jupyter-widgets/base",
            "overflow": null,
            "_model_module_version": "1.2.0",
            "_view_count": null,
            "flex_flow": null,
            "width": null,
            "min_width": null,
            "border": null,
            "align_items": null,
            "bottom": null,
            "_model_module": "@jupyter-widgets/base",
            "top": null,
            "grid_column": null,
            "overflow_y": null,
            "overflow_x": null,
            "grid_auto_flow": null,
            "grid_area": null,
            "grid_template_columns": null,
            "flex": null,
            "_model_name": "LayoutModel",
            "justify_items": null,
            "grid_row": null,
            "max_height": null,
            "align_content": null,
            "visibility": null,
            "align_self": null,
            "height": null,
            "min_height": null,
            "padding": null,
            "grid_auto_rows": null,
            "grid_gap": null,
            "max_width": null,
            "order": null,
            "_view_module_version": "1.2.0",
            "grid_template_areas": null,
            "object_position": null,
            "object_fit": null,
            "grid_auto_columns": null,
            "margin": null,
            "display": null,
            "left": null
          }
        },
        "b7734cea1d4f4f4cbf4cdd7bad42a6e7": {
          "model_module": "@jupyter-widgets/controls",
          "model_name": "DescriptionStyleModel",
          "state": {
            "_view_name": "StyleView",
            "_model_name": "DescriptionStyleModel",
            "description_width": "",
            "_view_module": "@jupyter-widgets/base",
            "_model_module_version": "1.5.0",
            "_view_count": null,
            "_view_module_version": "1.2.0",
            "_model_module": "@jupyter-widgets/controls"
          }
        },
        "d55301c14a4e4c91a9b25b16c53cebd2": {
          "model_module": "@jupyter-widgets/base",
          "model_name": "LayoutModel",
          "state": {
            "_view_name": "LayoutView",
            "grid_template_rows": null,
            "right": null,
            "justify_content": null,
            "_view_module": "@jupyter-widgets/base",
            "overflow": null,
            "_model_module_version": "1.2.0",
            "_view_count": null,
            "flex_flow": null,
            "width": null,
            "min_width": null,
            "border": null,
            "align_items": null,
            "bottom": null,
            "_model_module": "@jupyter-widgets/base",
            "top": null,
            "grid_column": null,
            "overflow_y": null,
            "overflow_x": null,
            "grid_auto_flow": null,
            "grid_area": null,
            "grid_template_columns": null,
            "flex": null,
            "_model_name": "LayoutModel",
            "justify_items": null,
            "grid_row": null,
            "max_height": null,
            "align_content": null,
            "visibility": null,
            "align_self": null,
            "height": null,
            "min_height": null,
            "padding": null,
            "grid_auto_rows": null,
            "grid_gap": null,
            "max_width": null,
            "order": null,
            "_view_module_version": "1.2.0",
            "grid_template_areas": null,
            "object_position": null,
            "object_fit": null,
            "grid_auto_columns": null,
            "margin": null,
            "display": null,
            "left": null
          }
        },
        "0ab1107cc0ba47e5bd993ff909c09be6": {
          "model_module": "@jupyter-widgets/controls",
          "model_name": "HBoxModel",
          "state": {
            "_view_name": "HBoxView",
            "_dom_classes": [],
            "_model_name": "HBoxModel",
            "_view_module": "@jupyter-widgets/controls",
            "_model_module_version": "1.5.0",
            "_view_count": null,
            "_view_module_version": "1.5.0",
            "box_style": "",
            "layout": "IPY_MODEL_93a5d72b2e1240d588b2e5f020fcad67",
            "_model_module": "@jupyter-widgets/controls",
            "children": [
              "IPY_MODEL_3e548c490e7940b1a341d34514b8d8cc",
              "IPY_MODEL_6015358c2a24483eab959d078906bf5a"
            ]
          }
        },
        "93a5d72b2e1240d588b2e5f020fcad67": {
          "model_module": "@jupyter-widgets/base",
          "model_name": "LayoutModel",
          "state": {
            "_view_name": "LayoutView",
            "grid_template_rows": null,
            "right": null,
            "justify_content": null,
            "_view_module": "@jupyter-widgets/base",
            "overflow": null,
            "_model_module_version": "1.2.0",
            "_view_count": null,
            "flex_flow": null,
            "width": null,
            "min_width": null,
            "border": null,
            "align_items": null,
            "bottom": null,
            "_model_module": "@jupyter-widgets/base",
            "top": null,
            "grid_column": null,
            "overflow_y": null,
            "overflow_x": null,
            "grid_auto_flow": null,
            "grid_area": null,
            "grid_template_columns": null,
            "flex": null,
            "_model_name": "LayoutModel",
            "justify_items": null,
            "grid_row": null,
            "max_height": null,
            "align_content": null,
            "visibility": null,
            "align_self": null,
            "height": null,
            "min_height": null,
            "padding": null,
            "grid_auto_rows": null,
            "grid_gap": null,
            "max_width": null,
            "order": null,
            "_view_module_version": "1.2.0",
            "grid_template_areas": null,
            "object_position": null,
            "object_fit": null,
            "grid_auto_columns": null,
            "margin": null,
            "display": null,
            "left": null
          }
        },
        "3e548c490e7940b1a341d34514b8d8cc": {
          "model_module": "@jupyter-widgets/controls",
          "model_name": "FloatProgressModel",
          "state": {
            "_view_name": "ProgressView",
            "style": "IPY_MODEL_c0acaae6f7ec48b5af0069362201fe7f",
            "_dom_classes": [],
            "description": "Downloading: 100%",
            "_model_name": "FloatProgressModel",
            "bar_style": "success",
            "max": 629,
            "_view_module": "@jupyter-widgets/controls",
            "_model_module_version": "1.5.0",
            "value": 629,
            "_view_count": null,
            "_view_module_version": "1.5.0",
            "orientation": "horizontal",
            "min": 0,
            "description_tooltip": null,
            "_model_module": "@jupyter-widgets/controls",
            "layout": "IPY_MODEL_3e9e5584595245ffa60603ac20e80d68"
          }
        },
        "6015358c2a24483eab959d078906bf5a": {
          "model_module": "@jupyter-widgets/controls",
          "model_name": "HTMLModel",
          "state": {
            "_view_name": "HTMLView",
            "style": "IPY_MODEL_8da5d0ae12d941139bada06848c625ef",
            "_dom_classes": [],
            "description": "",
            "_model_name": "HTMLModel",
            "placeholder": "​",
            "_view_module": "@jupyter-widgets/controls",
            "_model_module_version": "1.5.0",
            "value": " 629/629 [00:07&lt;00:00, 86.5B/s]",
            "_view_count": null,
            "_view_module_version": "1.5.0",
            "description_tooltip": null,
            "_model_module": "@jupyter-widgets/controls",
            "layout": "IPY_MODEL_4176c23cc59746a5a566088ca45d0b44"
          }
        },
        "c0acaae6f7ec48b5af0069362201fe7f": {
          "model_module": "@jupyter-widgets/controls",
          "model_name": "ProgressStyleModel",
          "state": {
            "_view_name": "StyleView",
            "_model_name": "ProgressStyleModel",
            "description_width": "initial",
            "_view_module": "@jupyter-widgets/base",
            "_model_module_version": "1.5.0",
            "_view_count": null,
            "_view_module_version": "1.2.0",
            "bar_color": null,
            "_model_module": "@jupyter-widgets/controls"
          }
        },
        "3e9e5584595245ffa60603ac20e80d68": {
          "model_module": "@jupyter-widgets/base",
          "model_name": "LayoutModel",
          "state": {
            "_view_name": "LayoutView",
            "grid_template_rows": null,
            "right": null,
            "justify_content": null,
            "_view_module": "@jupyter-widgets/base",
            "overflow": null,
            "_model_module_version": "1.2.0",
            "_view_count": null,
            "flex_flow": null,
            "width": null,
            "min_width": null,
            "border": null,
            "align_items": null,
            "bottom": null,
            "_model_module": "@jupyter-widgets/base",
            "top": null,
            "grid_column": null,
            "overflow_y": null,
            "overflow_x": null,
            "grid_auto_flow": null,
            "grid_area": null,
            "grid_template_columns": null,
            "flex": null,
            "_model_name": "LayoutModel",
            "justify_items": null,
            "grid_row": null,
            "max_height": null,
            "align_content": null,
            "visibility": null,
            "align_self": null,
            "height": null,
            "min_height": null,
            "padding": null,
            "grid_auto_rows": null,
            "grid_gap": null,
            "max_width": null,
            "order": null,
            "_view_module_version": "1.2.0",
            "grid_template_areas": null,
            "object_position": null,
            "object_fit": null,
            "grid_auto_columns": null,
            "margin": null,
            "display": null,
            "left": null
          }
        },
        "8da5d0ae12d941139bada06848c625ef": {
          "model_module": "@jupyter-widgets/controls",
          "model_name": "DescriptionStyleModel",
          "state": {
            "_view_name": "StyleView",
            "_model_name": "DescriptionStyleModel",
            "description_width": "",
            "_view_module": "@jupyter-widgets/base",
            "_model_module_version": "1.5.0",
            "_view_count": null,
            "_view_module_version": "1.2.0",
            "_model_module": "@jupyter-widgets/controls"
          }
        },
        "4176c23cc59746a5a566088ca45d0b44": {
          "model_module": "@jupyter-widgets/base",
          "model_name": "LayoutModel",
          "state": {
            "_view_name": "LayoutView",
            "grid_template_rows": null,
            "right": null,
            "justify_content": null,
            "_view_module": "@jupyter-widgets/base",
            "overflow": null,
            "_model_module_version": "1.2.0",
            "_view_count": null,
            "flex_flow": null,
            "width": null,
            "min_width": null,
            "border": null,
            "align_items": null,
            "bottom": null,
            "_model_module": "@jupyter-widgets/base",
            "top": null,
            "grid_column": null,
            "overflow_y": null,
            "overflow_x": null,
            "grid_auto_flow": null,
            "grid_area": null,
            "grid_template_columns": null,
            "flex": null,
            "_model_name": "LayoutModel",
            "justify_items": null,
            "grid_row": null,
            "max_height": null,
            "align_content": null,
            "visibility": null,
            "align_self": null,
            "height": null,
            "min_height": null,
            "padding": null,
            "grid_auto_rows": null,
            "grid_gap": null,
            "max_width": null,
            "order": null,
            "_view_module_version": "1.2.0",
            "grid_template_areas": null,
            "object_position": null,
            "object_fit": null,
            "grid_auto_columns": null,
            "margin": null,
            "display": null,
            "left": null
          }
        },
        "ba451fe9c6c5428cbd8c9bebb107fdb1": {
          "model_module": "@jupyter-widgets/controls",
          "model_name": "HBoxModel",
          "state": {
            "_view_name": "HBoxView",
            "_dom_classes": [],
            "_model_name": "HBoxModel",
            "_view_module": "@jupyter-widgets/controls",
            "_model_module_version": "1.5.0",
            "_view_count": null,
            "_view_module_version": "1.5.0",
            "box_style": "",
            "layout": "IPY_MODEL_df0e7ff00141413abe2440449b2a8c3f",
            "_model_module": "@jupyter-widgets/controls",
            "children": [
              "IPY_MODEL_572e239947774af5b476b23ba6635f0d",
              "IPY_MODEL_69ce50a203414b0eb1a465aa4ad26ef5"
            ]
          }
        },
        "df0e7ff00141413abe2440449b2a8c3f": {
          "model_module": "@jupyter-widgets/base",
          "model_name": "LayoutModel",
          "state": {
            "_view_name": "LayoutView",
            "grid_template_rows": null,
            "right": null,
            "justify_content": null,
            "_view_module": "@jupyter-widgets/base",
            "overflow": null,
            "_model_module_version": "1.2.0",
            "_view_count": null,
            "flex_flow": null,
            "width": null,
            "min_width": null,
            "border": null,
            "align_items": null,
            "bottom": null,
            "_model_module": "@jupyter-widgets/base",
            "top": null,
            "grid_column": null,
            "overflow_y": null,
            "overflow_x": null,
            "grid_auto_flow": null,
            "grid_area": null,
            "grid_template_columns": null,
            "flex": null,
            "_model_name": "LayoutModel",
            "justify_items": null,
            "grid_row": null,
            "max_height": null,
            "align_content": null,
            "visibility": null,
            "align_self": null,
            "height": null,
            "min_height": null,
            "padding": null,
            "grid_auto_rows": null,
            "grid_gap": null,
            "max_width": null,
            "order": null,
            "_view_module_version": "1.2.0",
            "grid_template_areas": null,
            "object_position": null,
            "object_fit": null,
            "grid_auto_columns": null,
            "margin": null,
            "display": null,
            "left": null
          }
        },
        "572e239947774af5b476b23ba6635f0d": {
          "model_module": "@jupyter-widgets/controls",
          "model_name": "FloatProgressModel",
          "state": {
            "_view_name": "ProgressView",
            "style": "IPY_MODEL_7c3299bf00d24f96a714a203380c4c33",
            "_dom_classes": [],
            "description": "Downloading: 100%",
            "_model_name": "FloatProgressModel",
            "bar_style": "success",
            "max": 267844284,
            "_view_module": "@jupyter-widgets/controls",
            "_model_module_version": "1.5.0",
            "value": 267844284,
            "_view_count": null,
            "_view_module_version": "1.5.0",
            "orientation": "horizontal",
            "min": 0,
            "description_tooltip": null,
            "_model_module": "@jupyter-widgets/controls",
            "layout": "IPY_MODEL_222629b6e8ff45faab29a254acd505c2"
          }
        },
        "69ce50a203414b0eb1a465aa4ad26ef5": {
          "model_module": "@jupyter-widgets/controls",
          "model_name": "HTMLModel",
          "state": {
            "_view_name": "HTMLView",
            "style": "IPY_MODEL_d272ad8b116645d2a0dfe10fbb7f1bcc",
            "_dom_classes": [],
            "description": "",
            "_model_name": "HTMLModel",
            "placeholder": "​",
            "_view_module": "@jupyter-widgets/controls",
            "_model_module_version": "1.5.0",
            "value": " 268M/268M [00:06&lt;00:00, 39.3MB/s]",
            "_view_count": null,
            "_view_module_version": "1.5.0",
            "description_tooltip": null,
            "_model_module": "@jupyter-widgets/controls",
            "layout": "IPY_MODEL_75be375cde2b4eeab61f4b41785bb7d7"
          }
        },
        "7c3299bf00d24f96a714a203380c4c33": {
          "model_module": "@jupyter-widgets/controls",
          "model_name": "ProgressStyleModel",
          "state": {
            "_view_name": "StyleView",
            "_model_name": "ProgressStyleModel",
            "description_width": "initial",
            "_view_module": "@jupyter-widgets/base",
            "_model_module_version": "1.5.0",
            "_view_count": null,
            "_view_module_version": "1.2.0",
            "bar_color": null,
            "_model_module": "@jupyter-widgets/controls"
          }
        },
        "222629b6e8ff45faab29a254acd505c2": {
          "model_module": "@jupyter-widgets/base",
          "model_name": "LayoutModel",
          "state": {
            "_view_name": "LayoutView",
            "grid_template_rows": null,
            "right": null,
            "justify_content": null,
            "_view_module": "@jupyter-widgets/base",
            "overflow": null,
            "_model_module_version": "1.2.0",
            "_view_count": null,
            "flex_flow": null,
            "width": null,
            "min_width": null,
            "border": null,
            "align_items": null,
            "bottom": null,
            "_model_module": "@jupyter-widgets/base",
            "top": null,
            "grid_column": null,
            "overflow_y": null,
            "overflow_x": null,
            "grid_auto_flow": null,
            "grid_area": null,
            "grid_template_columns": null,
            "flex": null,
            "_model_name": "LayoutModel",
            "justify_items": null,
            "grid_row": null,
            "max_height": null,
            "align_content": null,
            "visibility": null,
            "align_self": null,
            "height": null,
            "min_height": null,
            "padding": null,
            "grid_auto_rows": null,
            "grid_gap": null,
            "max_width": null,
            "order": null,
            "_view_module_version": "1.2.0",
            "grid_template_areas": null,
            "object_position": null,
            "object_fit": null,
            "grid_auto_columns": null,
            "margin": null,
            "display": null,
            "left": null
          }
        },
        "d272ad8b116645d2a0dfe10fbb7f1bcc": {
          "model_module": "@jupyter-widgets/controls",
          "model_name": "DescriptionStyleModel",
          "state": {
            "_view_name": "StyleView",
            "_model_name": "DescriptionStyleModel",
            "description_width": "",
            "_view_module": "@jupyter-widgets/base",
            "_model_module_version": "1.5.0",
            "_view_count": null,
            "_view_module_version": "1.2.0",
            "_model_module": "@jupyter-widgets/controls"
          }
        },
        "75be375cde2b4eeab61f4b41785bb7d7": {
          "model_module": "@jupyter-widgets/base",
          "model_name": "LayoutModel",
          "state": {
            "_view_name": "LayoutView",
            "grid_template_rows": null,
            "right": null,
            "justify_content": null,
            "_view_module": "@jupyter-widgets/base",
            "overflow": null,
            "_model_module_version": "1.2.0",
            "_view_count": null,
            "flex_flow": null,
            "width": null,
            "min_width": null,
            "border": null,
            "align_items": null,
            "bottom": null,
            "_model_module": "@jupyter-widgets/base",
            "top": null,
            "grid_column": null,
            "overflow_y": null,
            "overflow_x": null,
            "grid_auto_flow": null,
            "grid_area": null,
            "grid_template_columns": null,
            "flex": null,
            "_model_name": "LayoutModel",
            "justify_items": null,
            "grid_row": null,
            "max_height": null,
            "align_content": null,
            "visibility": null,
            "align_self": null,
            "height": null,
            "min_height": null,
            "padding": null,
            "grid_auto_rows": null,
            "grid_gap": null,
            "max_width": null,
            "order": null,
            "_view_module_version": "1.2.0",
            "grid_template_areas": null,
            "object_position": null,
            "object_fit": null,
            "grid_auto_columns": null,
            "margin": null,
            "display": null,
            "left": null
          }
        },
        "dfeaf6ee437746eeb4b967e0effd7b74": {
          "model_module": "@jupyter-widgets/controls",
          "model_name": "HBoxModel",
          "state": {
            "_view_name": "HBoxView",
            "_dom_classes": [],
            "_model_name": "HBoxModel",
            "_view_module": "@jupyter-widgets/controls",
            "_model_module_version": "1.5.0",
            "_view_count": null,
            "_view_module_version": "1.5.0",
            "box_style": "",
            "layout": "IPY_MODEL_c99f726215d5455286ac3113d4dd4b23",
            "_model_module": "@jupyter-widgets/controls",
            "children": [
              "IPY_MODEL_b855691fde684897ab3c5965da7f7754",
              "IPY_MODEL_82d984d3d9984547a63b2aa89e18e6ce"
            ]
          }
        },
        "c99f726215d5455286ac3113d4dd4b23": {
          "model_module": "@jupyter-widgets/base",
          "model_name": "LayoutModel",
          "state": {
            "_view_name": "LayoutView",
            "grid_template_rows": null,
            "right": null,
            "justify_content": null,
            "_view_module": "@jupyter-widgets/base",
            "overflow": null,
            "_model_module_version": "1.2.0",
            "_view_count": null,
            "flex_flow": null,
            "width": null,
            "min_width": null,
            "border": null,
            "align_items": null,
            "bottom": null,
            "_model_module": "@jupyter-widgets/base",
            "top": null,
            "grid_column": null,
            "overflow_y": null,
            "overflow_x": null,
            "grid_auto_flow": null,
            "grid_area": null,
            "grid_template_columns": null,
            "flex": null,
            "_model_name": "LayoutModel",
            "justify_items": null,
            "grid_row": null,
            "max_height": null,
            "align_content": null,
            "visibility": null,
            "align_self": null,
            "height": null,
            "min_height": null,
            "padding": null,
            "grid_auto_rows": null,
            "grid_gap": null,
            "max_width": null,
            "order": null,
            "_view_module_version": "1.2.0",
            "grid_template_areas": null,
            "object_position": null,
            "object_fit": null,
            "grid_auto_columns": null,
            "margin": null,
            "display": null,
            "left": null
          }
        },
        "b855691fde684897ab3c5965da7f7754": {
          "model_module": "@jupyter-widgets/controls",
          "model_name": "FloatProgressModel",
          "state": {
            "_view_name": "ProgressView",
            "style": "IPY_MODEL_89fb7c6f9da643d89ac900e379656a5e",
            "_dom_classes": [],
            "description": "Downloading: 100%",
            "_model_name": "FloatProgressModel",
            "bar_style": "success",
            "max": 231508,
            "_view_module": "@jupyter-widgets/controls",
            "_model_module_version": "1.5.0",
            "value": 231508,
            "_view_count": null,
            "_view_module_version": "1.5.0",
            "orientation": "horizontal",
            "min": 0,
            "description_tooltip": null,
            "_model_module": "@jupyter-widgets/controls",
            "layout": "IPY_MODEL_769ee9402887483a9de99e32d9a10656"
          }
        },
        "82d984d3d9984547a63b2aa89e18e6ce": {
          "model_module": "@jupyter-widgets/controls",
          "model_name": "HTMLModel",
          "state": {
            "_view_name": "HTMLView",
            "style": "IPY_MODEL_a010cb724c1c4425adc7cabf640ab365",
            "_dom_classes": [],
            "description": "",
            "_model_name": "HTMLModel",
            "placeholder": "​",
            "_view_module": "@jupyter-widgets/controls",
            "_model_module_version": "1.5.0",
            "value": " 232k/232k [00:01&lt;00:00, 171kB/s]",
            "_view_count": null,
            "_view_module_version": "1.5.0",
            "description_tooltip": null,
            "_model_module": "@jupyter-widgets/controls",
            "layout": "IPY_MODEL_4ce6e778724a4a93a9dac20803a4ee92"
          }
        },
        "89fb7c6f9da643d89ac900e379656a5e": {
          "model_module": "@jupyter-widgets/controls",
          "model_name": "ProgressStyleModel",
          "state": {
            "_view_name": "StyleView",
            "_model_name": "ProgressStyleModel",
            "description_width": "initial",
            "_view_module": "@jupyter-widgets/base",
            "_model_module_version": "1.5.0",
            "_view_count": null,
            "_view_module_version": "1.2.0",
            "bar_color": null,
            "_model_module": "@jupyter-widgets/controls"
          }
        },
        "769ee9402887483a9de99e32d9a10656": {
          "model_module": "@jupyter-widgets/base",
          "model_name": "LayoutModel",
          "state": {
            "_view_name": "LayoutView",
            "grid_template_rows": null,
            "right": null,
            "justify_content": null,
            "_view_module": "@jupyter-widgets/base",
            "overflow": null,
            "_model_module_version": "1.2.0",
            "_view_count": null,
            "flex_flow": null,
            "width": null,
            "min_width": null,
            "border": null,
            "align_items": null,
            "bottom": null,
            "_model_module": "@jupyter-widgets/base",
            "top": null,
            "grid_column": null,
            "overflow_y": null,
            "overflow_x": null,
            "grid_auto_flow": null,
            "grid_area": null,
            "grid_template_columns": null,
            "flex": null,
            "_model_name": "LayoutModel",
            "justify_items": null,
            "grid_row": null,
            "max_height": null,
            "align_content": null,
            "visibility": null,
            "align_self": null,
            "height": null,
            "min_height": null,
            "padding": null,
            "grid_auto_rows": null,
            "grid_gap": null,
            "max_width": null,
            "order": null,
            "_view_module_version": "1.2.0",
            "grid_template_areas": null,
            "object_position": null,
            "object_fit": null,
            "grid_auto_columns": null,
            "margin": null,
            "display": null,
            "left": null
          }
        },
        "a010cb724c1c4425adc7cabf640ab365": {
          "model_module": "@jupyter-widgets/controls",
          "model_name": "DescriptionStyleModel",
          "state": {
            "_view_name": "StyleView",
            "_model_name": "DescriptionStyleModel",
            "description_width": "",
            "_view_module": "@jupyter-widgets/base",
            "_model_module_version": "1.5.0",
            "_view_count": null,
            "_view_module_version": "1.2.0",
            "_model_module": "@jupyter-widgets/controls"
          }
        },
        "4ce6e778724a4a93a9dac20803a4ee92": {
          "model_module": "@jupyter-widgets/base",
          "model_name": "LayoutModel",
          "state": {
            "_view_name": "LayoutView",
            "grid_template_rows": null,
            "right": null,
            "justify_content": null,
            "_view_module": "@jupyter-widgets/base",
            "overflow": null,
            "_model_module_version": "1.2.0",
            "_view_count": null,
            "flex_flow": null,
            "width": null,
            "min_width": null,
            "border": null,
            "align_items": null,
            "bottom": null,
            "_model_module": "@jupyter-widgets/base",
            "top": null,
            "grid_column": null,
            "overflow_y": null,
            "overflow_x": null,
            "grid_auto_flow": null,
            "grid_area": null,
            "grid_template_columns": null,
            "flex": null,
            "_model_name": "LayoutModel",
            "justify_items": null,
            "grid_row": null,
            "max_height": null,
            "align_content": null,
            "visibility": null,
            "align_self": null,
            "height": null,
            "min_height": null,
            "padding": null,
            "grid_auto_rows": null,
            "grid_gap": null,
            "max_width": null,
            "order": null,
            "_view_module_version": "1.2.0",
            "grid_template_areas": null,
            "object_position": null,
            "object_fit": null,
            "grid_auto_columns": null,
            "margin": null,
            "display": null,
            "left": null
          }
        },
        "7e807402498541b69de3280a007b8613": {
          "model_module": "@jupyter-widgets/controls",
          "model_name": "HBoxModel",
          "state": {
            "_view_name": "HBoxView",
            "_dom_classes": [],
            "_model_name": "HBoxModel",
            "_view_module": "@jupyter-widgets/controls",
            "_model_module_version": "1.5.0",
            "_view_count": null,
            "_view_module_version": "1.5.0",
            "box_style": "",
            "layout": "IPY_MODEL_46ea09ca9f924b6d9ca60b83f8da7857",
            "_model_module": "@jupyter-widgets/controls",
            "children": [
              "IPY_MODEL_ef3b4381f6124105bdda08b79f14cdfe",
              "IPY_MODEL_6b085bfd37e74c5992b22c7a1fbdb750"
            ]
          }
        },
        "46ea09ca9f924b6d9ca60b83f8da7857": {
          "model_module": "@jupyter-widgets/base",
          "model_name": "LayoutModel",
          "state": {
            "_view_name": "LayoutView",
            "grid_template_rows": null,
            "right": null,
            "justify_content": null,
            "_view_module": "@jupyter-widgets/base",
            "overflow": null,
            "_model_module_version": "1.2.0",
            "_view_count": null,
            "flex_flow": null,
            "width": null,
            "min_width": null,
            "border": null,
            "align_items": null,
            "bottom": null,
            "_model_module": "@jupyter-widgets/base",
            "top": null,
            "grid_column": null,
            "overflow_y": null,
            "overflow_x": null,
            "grid_auto_flow": null,
            "grid_area": null,
            "grid_template_columns": null,
            "flex": null,
            "_model_name": "LayoutModel",
            "justify_items": null,
            "grid_row": null,
            "max_height": null,
            "align_content": null,
            "visibility": null,
            "align_self": null,
            "height": null,
            "min_height": null,
            "padding": null,
            "grid_auto_rows": null,
            "grid_gap": null,
            "max_width": null,
            "order": null,
            "_view_module_version": "1.2.0",
            "grid_template_areas": null,
            "object_position": null,
            "object_fit": null,
            "grid_auto_columns": null,
            "margin": null,
            "display": null,
            "left": null
          }
        },
        "ef3b4381f6124105bdda08b79f14cdfe": {
          "model_module": "@jupyter-widgets/controls",
          "model_name": "FloatProgressModel",
          "state": {
            "_view_name": "ProgressView",
            "style": "IPY_MODEL_b7092a8518ac4cb9afaceab287277423",
            "_dom_classes": [],
            "description": "Downloading: 100%",
            "_model_name": "FloatProgressModel",
            "bar_style": "success",
            "max": 48,
            "_view_module": "@jupyter-widgets/controls",
            "_model_module_version": "1.5.0",
            "value": 48,
            "_view_count": null,
            "_view_module_version": "1.5.0",
            "orientation": "horizontal",
            "min": 0,
            "description_tooltip": null,
            "_model_module": "@jupyter-widgets/controls",
            "layout": "IPY_MODEL_6a64b897f62146caac64f4bdfc87f028"
          }
        },
        "6b085bfd37e74c5992b22c7a1fbdb750": {
          "model_module": "@jupyter-widgets/controls",
          "model_name": "HTMLModel",
          "state": {
            "_view_name": "HTMLView",
            "style": "IPY_MODEL_32bf692d44344c7c82039e3fea4d073e",
            "_dom_classes": [],
            "description": "",
            "_model_name": "HTMLModel",
            "placeholder": "​",
            "_view_module": "@jupyter-widgets/controls",
            "_model_module_version": "1.5.0",
            "value": " 48.0/48.0 [00:00&lt;00:00, 442B/s]",
            "_view_count": null,
            "_view_module_version": "1.5.0",
            "description_tooltip": null,
            "_model_module": "@jupyter-widgets/controls",
            "layout": "IPY_MODEL_b4f1aa4cff48415793c3e5e9d8007832"
          }
        },
        "b7092a8518ac4cb9afaceab287277423": {
          "model_module": "@jupyter-widgets/controls",
          "model_name": "ProgressStyleModel",
          "state": {
            "_view_name": "StyleView",
            "_model_name": "ProgressStyleModel",
            "description_width": "initial",
            "_view_module": "@jupyter-widgets/base",
            "_model_module_version": "1.5.0",
            "_view_count": null,
            "_view_module_version": "1.2.0",
            "bar_color": null,
            "_model_module": "@jupyter-widgets/controls"
          }
        },
        "6a64b897f62146caac64f4bdfc87f028": {
          "model_module": "@jupyter-widgets/base",
          "model_name": "LayoutModel",
          "state": {
            "_view_name": "LayoutView",
            "grid_template_rows": null,
            "right": null,
            "justify_content": null,
            "_view_module": "@jupyter-widgets/base",
            "overflow": null,
            "_model_module_version": "1.2.0",
            "_view_count": null,
            "flex_flow": null,
            "width": null,
            "min_width": null,
            "border": null,
            "align_items": null,
            "bottom": null,
            "_model_module": "@jupyter-widgets/base",
            "top": null,
            "grid_column": null,
            "overflow_y": null,
            "overflow_x": null,
            "grid_auto_flow": null,
            "grid_area": null,
            "grid_template_columns": null,
            "flex": null,
            "_model_name": "LayoutModel",
            "justify_items": null,
            "grid_row": null,
            "max_height": null,
            "align_content": null,
            "visibility": null,
            "align_self": null,
            "height": null,
            "min_height": null,
            "padding": null,
            "grid_auto_rows": null,
            "grid_gap": null,
            "max_width": null,
            "order": null,
            "_view_module_version": "1.2.0",
            "grid_template_areas": null,
            "object_position": null,
            "object_fit": null,
            "grid_auto_columns": null,
            "margin": null,
            "display": null,
            "left": null
          }
        },
        "32bf692d44344c7c82039e3fea4d073e": {
          "model_module": "@jupyter-widgets/controls",
          "model_name": "DescriptionStyleModel",
          "state": {
            "_view_name": "StyleView",
            "_model_name": "DescriptionStyleModel",
            "description_width": "",
            "_view_module": "@jupyter-widgets/base",
            "_model_module_version": "1.5.0",
            "_view_count": null,
            "_view_module_version": "1.2.0",
            "_model_module": "@jupyter-widgets/controls"
          }
        },
        "b4f1aa4cff48415793c3e5e9d8007832": {
          "model_module": "@jupyter-widgets/base",
          "model_name": "LayoutModel",
          "state": {
            "_view_name": "LayoutView",
            "grid_template_rows": null,
            "right": null,
            "justify_content": null,
            "_view_module": "@jupyter-widgets/base",
            "overflow": null,
            "_model_module_version": "1.2.0",
            "_view_count": null,
            "flex_flow": null,
            "width": null,
            "min_width": null,
            "border": null,
            "align_items": null,
            "bottom": null,
            "_model_module": "@jupyter-widgets/base",
            "top": null,
            "grid_column": null,
            "overflow_y": null,
            "overflow_x": null,
            "grid_auto_flow": null,
            "grid_area": null,
            "grid_template_columns": null,
            "flex": null,
            "_model_name": "LayoutModel",
            "justify_items": null,
            "grid_row": null,
            "max_height": null,
            "align_content": null,
            "visibility": null,
            "align_self": null,
            "height": null,
            "min_height": null,
            "padding": null,
            "grid_auto_rows": null,
            "grid_gap": null,
            "max_width": null,
            "order": null,
            "_view_module_version": "1.2.0",
            "grid_template_areas": null,
            "object_position": null,
            "object_fit": null,
            "grid_auto_columns": null,
            "margin": null,
            "display": null,
            "left": null
          }
        }
      }
    }
  },
  "cells": [
    {
      "cell_type": "markdown",
      "metadata": {
        "id": "view-in-github",
        "colab_type": "text"
      },
      "source": [
        "<a href=\"https://colab.research.google.com/github/madhekare/grae/blob/main/daca.ipynb\" target=\"_parent\"><img src=\"https://colab.research.google.com/assets/colab-badge.svg\" alt=\"Open In Colab\"/></a>"
      ]
    },
    {
      "cell_type": "markdown",
      "metadata": {
        "id": "cZF7plpNXceL"
      },
      "source": [
        "# GRAE: Reinventing Immigration Law Tech"
      ]
    },
    {
      "cell_type": "code",
      "metadata": {
        "colab": {
          "base_uri": "https://localhost:8080/"
        },
        "id": "7FnEv0d9Unxx",
        "outputId": "9bed3727-aa56-4d98-c684-28c39c53f37c"
      },
      "source": [
        "# gdrive specific imports\n",
        "from google.colab import drive, auth\n",
        "import gspread\n",
        "from oauth2client.client import GoogleCredentials\n",
        "\n",
        "drive.mount('/content/drive', force_remount=False)\n",
        "auth.authenticate_user()\n",
        "\n",
        "gc = gspread.authorize(GoogleCredentials.get_application_default())"
      ],
      "execution_count": 1,
      "outputs": [
        {
          "output_type": "stream",
          "text": [
            "Mounted at /content/drive\n"
          ],
          "name": "stdout"
        }
      ]
    },
    {
      "cell_type": "markdown",
      "metadata": {
        "id": "brOqy_aaAbn4"
      },
      "source": [
        "# Pull Data From Google Form"
      ]
    },
    {
      "cell_type": "code",
      "metadata": {
        "colab": {
          "base_uri": "https://localhost:8080/"
        },
        "id": "elwY2zGbU-_v",
        "outputId": "d90b9ee1-da00-4545-affc-9b5f0909f212"
      },
      "source": [
        "pip install faker"
      ],
      "execution_count": 2,
      "outputs": [
        {
          "output_type": "stream",
          "text": [
            "Collecting faker\n",
            "\u001b[?25l  Downloading https://files.pythonhosted.org/packages/4e/05/eb245d15f94417099abc60c6538d62c034b311d3af879242785ef1467b2c/Faker-8.1.2-py3-none-any.whl (1.2MB)\n",
            "\u001b[K     |████████████████████████████████| 1.2MB 5.5MB/s \n",
            "\u001b[?25hRequirement already satisfied: text-unidecode==1.3 in /usr/local/lib/python3.7/dist-packages (from faker) (1.3)\n",
            "Requirement already satisfied: python-dateutil>=2.4 in /usr/local/lib/python3.7/dist-packages (from faker) (2.8.1)\n",
            "Requirement already satisfied: six>=1.5 in /usr/local/lib/python3.7/dist-packages (from python-dateutil>=2.4->faker) (1.15.0)\n",
            "Installing collected packages: faker\n",
            "Successfully installed faker-8.1.2\n"
          ],
          "name": "stdout"
        }
      ]
    },
    {
      "cell_type": "code",
      "metadata": {
        "id": "_IR7Xr7JT8gl"
      },
      "source": [
        "import pandas as pd\n",
        "import numpy as np\n",
        "import datetime\n",
        "import random\n",
        "from functools import reduce\n",
        "\n",
        "from faker import Faker\n",
        "fake = Faker()"
      ],
      "execution_count": 3,
      "outputs": []
    },
    {
      "cell_type": "markdown",
      "metadata": {
        "id": "NXNB0dBazrds"
      },
      "source": [
        "# Generate Test Data"
      ]
    },
    {
      "cell_type": "code",
      "metadata": {
        "id": "iYrijwsCT8gx"
      },
      "source": [
        "def first_row_as_header(df):\n",
        "  new_header = df.iloc[0] #grab the first row for the header\n",
        "  df = df[1:] #take the data less the header row\n",
        "  df.columns = new_header #set the header row as the df header\n",
        "  df = df.reset_index(drop=True)\n",
        "  return df\n",
        "\n",
        "def get_gsheet(spreadsheet_info, sheet_name):\n",
        "  if \"docs.google.com\" in spreadsheet_info: # is url\n",
        "    try:\n",
        "      spreadsheet = gc.open_by_url(spreadsheet_info)\n",
        "    except:\n",
        "      raise Exception(\"Cannot find spreadsheet\")\n",
        "  else: # is name\n",
        "    spreadsheet = gc.open(spreadsheet_info)\n",
        "\n",
        "  try:\n",
        "    worksheet = spreadsheet.worksheet(sheet_name)\n",
        "  except:\n",
        "    raise Exception(\"Cannot find sheet. Sheet names available {}.\".format(spreadsheet.worksheets()))\n",
        "\n",
        "  # get_all_values gives a list of rows.\n",
        "  rows = worksheet.get_all_values()\n",
        "\n",
        "  # Convert to a DataFrame and render.\n",
        "  df = pd.DataFrame.from_records(rows)\n",
        "\n",
        "  # Get first row as header\n",
        "  df = first_row_as_header(df)\n",
        "\n",
        "  return worksheet, df\n",
        "\n",
        "def randomtimes(start, end, n):\n",
        "    frmt = '%d-%m-%Y %H:%M:%S'\n",
        "    stime = datetime.datetime.strptime(start, frmt)\n",
        "    etime = datetime.datetime.strptime(end, frmt)\n",
        "    td = etime - stime\n",
        "    return [random.random() * td + stime for _ in range(n)]\n",
        "\n",
        "def get_single_date():\n",
        "    datetime_obj = randomtimes(\"20-09-2013 13:12:00\", \"20-09-2013 13:12:00\", 1)[0]\n",
        "    return str(datetime_obj)\n",
        "\n",
        "def get_random_row():\n",
        "    result = [get_single_date(),\n",
        "              fake.name(),\n",
        "              fake.email(),\n",
        "              fake.phone_number(),\n",
        "              fake.street_address(),\n",
        "              np.random.choice([\"Apartment\", \"Suite\", \"Floor\"]),\n",
        "              np.random.choice([\"Initial Request\", \"Renewal Request\"]),\n",
        "              np.random.choice([\"yes\", \"no\"]),\n",
        "              np.random.randint(100000, 999999),\n",
        "              fake.ssn(),\n",
        "              str(fake.simple_profile()[\"birthdate\"]),\n",
        "              np.random.choice([\"Female\", \"Male\"]),\n",
        "              fake.city(),\n",
        "              fake.country(),\n",
        "              fake.country(),\n",
        "              fake.country(),\n",
        "              np.random.choice([\"Married\", \"Widowed\", \"Single\", \"Divorced\"]),\n",
        "              np.random.choice([\"Hispanic or Latino\", \"Not Hispanic or latino\"]),\n",
        "              np.random.choice([\"White\", \"Asian\", \"African American\", \"American Indian\", \"Native Hawaiian\"]),\n",
        "              np.random.choice([\"yes\", \"no\"]),\n",
        "              np.random.choice([\"true\", \"false\"], p = (.1, .9)),\n",
        "              np.random.choice([\"yes\", \"no\"]),\n",
        "              np.random.choice([\"yes\", \"no\"]),\n",
        "              np.random.choice([\"yes\", \"no\"]),\n",
        "              np.random.choice([\"yes\", \"no\"]),\n",
        "              np.random.choice([\"yes\", \"no\"]),\n",
        "              np.random.choice([\"yes\", \"no\"]),\n",
        "              np.random.choice([\"yes\", \"no\"]),\n",
        "             ]\n",
        "    return result"
      ],
      "execution_count": 11,
      "outputs": []
    },
    {
      "cell_type": "code",
      "metadata": {
        "id": "BlWBtgXykse7",
        "colab": {
          "base_uri": "https://localhost:8080/"
        },
        "outputId": "9bc1a75a-2bcc-4e63-ec74-0eb34790f525"
      },
      "source": [
        "from google.colab import drive\n",
        "drive.mount('/content/drive')"
      ],
      "execution_count": 12,
      "outputs": [
        {
          "output_type": "stream",
          "text": [
            "Drive already mounted at /content/drive; to attempt to forcibly remount, call drive.mount(\"/content/drive\", force_remount=True).\n"
          ],
          "name": "stdout"
        }
      ]
    },
    {
      "cell_type": "code",
      "metadata": {
        "colab": {
          "base_uri": "https://localhost:8080/",
          "height": 460
        },
        "id": "y1TZOtTMVDFF",
        "outputId": "2a97b6a9-b6e9-4dbb-f431-88f88438208e"
      },
      "source": [
        "# Name of google sheet\n",
        "spreadsheet_name = 'DACA Information (Responses)'  # IMPORTANT PARAM\n",
        "sheet_name = \"Form Responses 1\"\n",
        "\n",
        "# Gets sheet\n",
        "worksheet, df = get_gsheet(spreadsheet_name, sheet_name)\n",
        "print(len(df), \"rows\")\n",
        "df.head()"
      ],
      "execution_count": 13,
      "outputs": [
        {
          "output_type": "stream",
          "text": [
            "0 rows\n"
          ],
          "name": "stdout"
        },
        {
          "output_type": "execute_result",
          "data": {
            "text/html": [
              "<div>\n",
              "<style scoped>\n",
              "    .dataframe tbody tr th:only-of-type {\n",
              "        vertical-align: middle;\n",
              "    }\n",
              "\n",
              "    .dataframe tbody tr th {\n",
              "        vertical-align: top;\n",
              "    }\n",
              "\n",
              "    .dataframe thead th {\n",
              "        text-align: right;\n",
              "    }\n",
              "</style>\n",
              "<table border=\"1\" class=\"dataframe\">\n",
              "  <thead>\n",
              "    <tr style=\"text-align: right;\">\n",
              "      <th></th>\n",
              "      <th>Timestamp</th>\n",
              "      <th>Full Legal Name</th>\n",
              "      <th>Email</th>\n",
              "      <th>Phone number</th>\n",
              "      <th>US Mailing Address - Street Name and Number</th>\n",
              "      <th>US Mailing Address - type</th>\n",
              "      <th>Requesting:</th>\n",
              "      <th>Are you NOW or have you EVER been in removal proceedings, or do you have a removal order issued in any other context (for example, at the border or within the United States by an immigration agent)?</th>\n",
              "      <th>Alien Registration Number</th>\n",
              "      <th>US social security number</th>\n",
              "      <th>Date of Birth</th>\n",
              "      <th>Gender</th>\n",
              "      <th>City/town/village of Birth</th>\n",
              "      <th>Country of Birth</th>\n",
              "      <th>Current Country of Residence</th>\n",
              "      <th>Country of Citizenship or Nationality</th>\n",
              "      <th>Martial Status</th>\n",
              "      <th>Ethnicity</th>\n",
              "      <th>Race</th>\n",
              "      <th>I have been continuously residing in the U.S. since at least June 15, 2007, up to the present time.</th>\n",
              "      <th>Have you EVER been arrested for, charged with, or convicted of a felony or misdemeanor, including incidents handled in juvenile court, in the United States? Do not include minor traffic violations unless they were alcohol- or drug-related</th>\n",
              "      <th>Were you under 16 years old when entering the United States of America?</th>\n",
              "      <th>Were you under 31 years old as of June 15, 2012?</th>\n",
              "      <th>Have you continuously resided in the U.S. from June 15, 2007, to the present?</th>\n",
              "      <th>Did you enter the U.S. without inspection before June 15, 2012, or, if you had legal immigration status, it had expired as of June 15, 2012?</th>\n",
              "      <th>Were you physically present in the U.S. on June 15, 2012 (you must also be physically present in the U.S. when you apply for DACA)?</th>\n",
              "      <th>Are you currently in school, have you graduated from high school, obtained your GED, or have you been honorably discharged from the U.S. armed forces or Coast Guard?</th>\n",
              "      <th>Do you pose a threat to national security or public safety?</th>\n",
              "    </tr>\n",
              "  </thead>\n",
              "  <tbody>\n",
              "  </tbody>\n",
              "</table>\n",
              "</div>"
            ],
            "text/plain": [
              "Empty DataFrame\n",
              "Columns: [Timestamp, Full Legal Name, Email, Phone number, US Mailing Address - Street Name and Number, US Mailing Address - type , Requesting:, Are you NOW or have you EVER been in removal proceedings, or do you have a removal order issued in any other context (for example, at the border or within the United States by an immigration agent)?, Alien Registration Number, US social security number, Date of Birth, Gender, City/town/village of Birth, Country of Birth, Current Country of Residence, Country of Citizenship or Nationality, Martial Status, Ethnicity, Race, I have been continuously residing in the U.S. since at least June 15, 2007, up to the present time., Have you EVER been arrested for, charged with, or convicted of a felony or misdemeanor, including incidents handled in juvenile court, in the United States? Do not include minor traffic violations unless they were alcohol- or drug-related, Were you under 16 years old when entering the United States of America?, Were you under 31 years old as of June 15, 2012?, Have you continuously resided in the U.S. from June 15, 2007, to the present?, Did you enter the U.S. without inspection before June 15, 2012, or, if you had legal immigration status, it had expired as of June 15, 2012?, Were you physically present in the U.S. on June 15, 2012 (you must also be physically present in the U.S. when you apply for DACA)?, Are you currently in school, have you graduated from high school, obtained your GED, or have you been honorably discharged from the U.S. armed forces or Coast Guard?, Do you pose a threat to national security or public safety?]\n",
              "Index: []"
            ]
          },
          "metadata": {
            "tags": []
          },
          "execution_count": 13
        }
      ]
    },
    {
      "cell_type": "code",
      "metadata": {
        "colab": {
          "base_uri": "https://localhost:8080/"
        },
        "id": "J8R8_-uPT8g0",
        "outputId": "8cd06840-5b12-47f3-f3c1-fa2796cc4858"
      },
      "source": [
        "cols = list(df.columns)\n",
        "cols"
      ],
      "execution_count": 14,
      "outputs": [
        {
          "output_type": "execute_result",
          "data": {
            "text/plain": [
              "['Timestamp',\n",
              " 'Full Legal Name',\n",
              " 'Email',\n",
              " 'Phone number',\n",
              " 'US Mailing Address - Street Name and Number',\n",
              " 'US Mailing Address - type ',\n",
              " 'Requesting:',\n",
              " 'Are you NOW or have you EVER been in removal proceedings, or do you have a removal order issued in any other context (for example, at the border or within the United States by an immigration agent)?',\n",
              " 'Alien Registration Number',\n",
              " 'US social security number',\n",
              " 'Date of Birth',\n",
              " 'Gender',\n",
              " 'City/town/village of Birth',\n",
              " 'Country of Birth',\n",
              " 'Current Country of Residence',\n",
              " 'Country of Citizenship or Nationality',\n",
              " 'Martial Status',\n",
              " 'Ethnicity',\n",
              " 'Race',\n",
              " 'I have been continuously residing in the U.S. since at least June 15, 2007, up to the present time.',\n",
              " 'Have you EVER been arrested for, charged with, or convicted of a felony or misdemeanor, including incidents handled in juvenile court, in the United States? Do not include minor traffic violations unless they were alcohol- or drug-related',\n",
              " 'Were you under 16 years old when entering the United States of America?',\n",
              " 'Were you under 31 years old as of June 15, 2012?',\n",
              " 'Have you continuously resided in the U.S. from June 15, 2007, to the present?',\n",
              " 'Did you enter the U.S. without inspection before June 15, 2012, or, if you had legal immigration status, it had expired as of June 15, 2012?',\n",
              " 'Were you physically present in the U.S. on June 15, 2012 (you must also be physically present in the U.S. when you apply for DACA)?',\n",
              " 'Are you currently in school, have you graduated from high school, obtained your GED, or have you been honorably discharged from the U.S. armed forces or Coast Guard?',\n",
              " 'Do you pose a threat to national security or public safety?']"
            ]
          },
          "metadata": {
            "tags": []
          },
          "execution_count": 14
        }
      ]
    },
    {
      "cell_type": "code",
      "metadata": {
        "id": "chS_ol-5T8g1"
      },
      "source": [
        "num_rows = 100\n",
        "for i in range(num_rows):\n",
        "    df = df.append(dict(zip(cols, get_random_row())), ignore_index=True)"
      ],
      "execution_count": 15,
      "outputs": []
    },
    {
      "cell_type": "code",
      "metadata": {
        "colab": {
          "base_uri": "https://localhost:8080/",
          "height": 1000
        },
        "id": "fDCqALZKT8g2",
        "outputId": "d8e0a58f-cd79-494c-cfc3-93251708decf"
      },
      "source": [
        "df"
      ],
      "execution_count": 16,
      "outputs": [
        {
          "output_type": "execute_result",
          "data": {
            "text/html": [
              "<div>\n",
              "<style scoped>\n",
              "    .dataframe tbody tr th:only-of-type {\n",
              "        vertical-align: middle;\n",
              "    }\n",
              "\n",
              "    .dataframe tbody tr th {\n",
              "        vertical-align: top;\n",
              "    }\n",
              "\n",
              "    .dataframe thead th {\n",
              "        text-align: right;\n",
              "    }\n",
              "</style>\n",
              "<table border=\"1\" class=\"dataframe\">\n",
              "  <thead>\n",
              "    <tr style=\"text-align: right;\">\n",
              "      <th></th>\n",
              "      <th>Timestamp</th>\n",
              "      <th>Full Legal Name</th>\n",
              "      <th>Email</th>\n",
              "      <th>Phone number</th>\n",
              "      <th>US Mailing Address - Street Name and Number</th>\n",
              "      <th>US Mailing Address - type</th>\n",
              "      <th>Requesting:</th>\n",
              "      <th>Are you NOW or have you EVER been in removal proceedings, or do you have a removal order issued in any other context (for example, at the border or within the United States by an immigration agent)?</th>\n",
              "      <th>Alien Registration Number</th>\n",
              "      <th>US social security number</th>\n",
              "      <th>Date of Birth</th>\n",
              "      <th>Gender</th>\n",
              "      <th>City/town/village of Birth</th>\n",
              "      <th>Country of Birth</th>\n",
              "      <th>Current Country of Residence</th>\n",
              "      <th>Country of Citizenship or Nationality</th>\n",
              "      <th>Martial Status</th>\n",
              "      <th>Ethnicity</th>\n",
              "      <th>Race</th>\n",
              "      <th>I have been continuously residing in the U.S. since at least June 15, 2007, up to the present time.</th>\n",
              "      <th>Have you EVER been arrested for, charged with, or convicted of a felony or misdemeanor, including incidents handled in juvenile court, in the United States? Do not include minor traffic violations unless they were alcohol- or drug-related</th>\n",
              "      <th>Were you under 16 years old when entering the United States of America?</th>\n",
              "      <th>Were you under 31 years old as of June 15, 2012?</th>\n",
              "      <th>Have you continuously resided in the U.S. from June 15, 2007, to the present?</th>\n",
              "      <th>Did you enter the U.S. without inspection before June 15, 2012, or, if you had legal immigration status, it had expired as of June 15, 2012?</th>\n",
              "      <th>Were you physically present in the U.S. on June 15, 2012 (you must also be physically present in the U.S. when you apply for DACA)?</th>\n",
              "      <th>Are you currently in school, have you graduated from high school, obtained your GED, or have you been honorably discharged from the U.S. armed forces or Coast Guard?</th>\n",
              "      <th>Do you pose a threat to national security or public safety?</th>\n",
              "    </tr>\n",
              "  </thead>\n",
              "  <tbody>\n",
              "    <tr>\n",
              "      <th>0</th>\n",
              "      <td>2013-09-20 13:12:00</td>\n",
              "      <td>Mark Daugherty</td>\n",
              "      <td>veronicajordan@phelps-pratt.com</td>\n",
              "      <td>554.755.9054</td>\n",
              "      <td>0419 Michael Fort</td>\n",
              "      <td>Floor</td>\n",
              "      <td>Initial Request</td>\n",
              "      <td>no</td>\n",
              "      <td>425897</td>\n",
              "      <td>025-12-7237</td>\n",
              "      <td>2009-10-14</td>\n",
              "      <td>Male</td>\n",
              "      <td>Port Michael</td>\n",
              "      <td>French Polynesia</td>\n",
              "      <td>Ethiopia</td>\n",
              "      <td>Samoa</td>\n",
              "      <td>Widowed</td>\n",
              "      <td>Not Hispanic or latino</td>\n",
              "      <td>African American</td>\n",
              "      <td>no</td>\n",
              "      <td>false</td>\n",
              "      <td>yes</td>\n",
              "      <td>no</td>\n",
              "      <td>no</td>\n",
              "      <td>no</td>\n",
              "      <td>yes</td>\n",
              "      <td>no</td>\n",
              "      <td>no</td>\n",
              "    </tr>\n",
              "    <tr>\n",
              "      <th>1</th>\n",
              "      <td>2013-09-20 13:12:00</td>\n",
              "      <td>Michele Miller</td>\n",
              "      <td>jesse98@yahoo.com</td>\n",
              "      <td>+1-259-758-5519x6136</td>\n",
              "      <td>6877 Allen Extension</td>\n",
              "      <td>Suite</td>\n",
              "      <td>Initial Request</td>\n",
              "      <td>no</td>\n",
              "      <td>601058</td>\n",
              "      <td>070-27-8948</td>\n",
              "      <td>1943-12-22</td>\n",
              "      <td>Female</td>\n",
              "      <td>Kelleyport</td>\n",
              "      <td>Korea</td>\n",
              "      <td>Cook Islands</td>\n",
              "      <td>Vanuatu</td>\n",
              "      <td>Widowed</td>\n",
              "      <td>Not Hispanic or latino</td>\n",
              "      <td>White</td>\n",
              "      <td>no</td>\n",
              "      <td>false</td>\n",
              "      <td>no</td>\n",
              "      <td>yes</td>\n",
              "      <td>yes</td>\n",
              "      <td>no</td>\n",
              "      <td>no</td>\n",
              "      <td>no</td>\n",
              "      <td>no</td>\n",
              "    </tr>\n",
              "    <tr>\n",
              "      <th>2</th>\n",
              "      <td>2013-09-20 13:12:00</td>\n",
              "      <td>Edward Willis</td>\n",
              "      <td>richard21@gonzalez-spears.info</td>\n",
              "      <td>(042)464-6480</td>\n",
              "      <td>948 Jessica Passage Suite 510</td>\n",
              "      <td>Apartment</td>\n",
              "      <td>Initial Request</td>\n",
              "      <td>yes</td>\n",
              "      <td>282230</td>\n",
              "      <td>214-22-2082</td>\n",
              "      <td>1975-04-02</td>\n",
              "      <td>Female</td>\n",
              "      <td>South Shannonfort</td>\n",
              "      <td>Dominican Republic</td>\n",
              "      <td>South Africa</td>\n",
              "      <td>Aruba</td>\n",
              "      <td>Widowed</td>\n",
              "      <td>Not Hispanic or latino</td>\n",
              "      <td>African American</td>\n",
              "      <td>yes</td>\n",
              "      <td>true</td>\n",
              "      <td>no</td>\n",
              "      <td>no</td>\n",
              "      <td>no</td>\n",
              "      <td>no</td>\n",
              "      <td>yes</td>\n",
              "      <td>no</td>\n",
              "      <td>no</td>\n",
              "    </tr>\n",
              "    <tr>\n",
              "      <th>3</th>\n",
              "      <td>2013-09-20 13:12:00</td>\n",
              "      <td>Brittany Sexton</td>\n",
              "      <td>christinegraham@villegas.biz</td>\n",
              "      <td>323-592-5777</td>\n",
              "      <td>4875 Rogers Spring Suite 734</td>\n",
              "      <td>Suite</td>\n",
              "      <td>Renewal Request</td>\n",
              "      <td>no</td>\n",
              "      <td>929783</td>\n",
              "      <td>899-42-8091</td>\n",
              "      <td>1950-12-06</td>\n",
              "      <td>Male</td>\n",
              "      <td>North Joeton</td>\n",
              "      <td>Grenada</td>\n",
              "      <td>Switzerland</td>\n",
              "      <td>Liechtenstein</td>\n",
              "      <td>Divorced</td>\n",
              "      <td>Hispanic or Latino</td>\n",
              "      <td>Native Hawaiian</td>\n",
              "      <td>yes</td>\n",
              "      <td>false</td>\n",
              "      <td>no</td>\n",
              "      <td>no</td>\n",
              "      <td>yes</td>\n",
              "      <td>yes</td>\n",
              "      <td>no</td>\n",
              "      <td>yes</td>\n",
              "      <td>no</td>\n",
              "    </tr>\n",
              "    <tr>\n",
              "      <th>4</th>\n",
              "      <td>2013-09-20 13:12:00</td>\n",
              "      <td>Adrian Shepherd</td>\n",
              "      <td>snowmark@booth-robinson.com</td>\n",
              "      <td>001-071-608-3133x82795</td>\n",
              "      <td>892 Romero Throughway</td>\n",
              "      <td>Suite</td>\n",
              "      <td>Renewal Request</td>\n",
              "      <td>no</td>\n",
              "      <td>807800</td>\n",
              "      <td>183-07-2245</td>\n",
              "      <td>1962-11-11</td>\n",
              "      <td>Female</td>\n",
              "      <td>Maybury</td>\n",
              "      <td>Solomon Islands</td>\n",
              "      <td>Guam</td>\n",
              "      <td>Palestinian Territory</td>\n",
              "      <td>Widowed</td>\n",
              "      <td>Hispanic or Latino</td>\n",
              "      <td>Asian</td>\n",
              "      <td>yes</td>\n",
              "      <td>false</td>\n",
              "      <td>yes</td>\n",
              "      <td>no</td>\n",
              "      <td>no</td>\n",
              "      <td>yes</td>\n",
              "      <td>yes</td>\n",
              "      <td>no</td>\n",
              "      <td>no</td>\n",
              "    </tr>\n",
              "    <tr>\n",
              "      <th>...</th>\n",
              "      <td>...</td>\n",
              "      <td>...</td>\n",
              "      <td>...</td>\n",
              "      <td>...</td>\n",
              "      <td>...</td>\n",
              "      <td>...</td>\n",
              "      <td>...</td>\n",
              "      <td>...</td>\n",
              "      <td>...</td>\n",
              "      <td>...</td>\n",
              "      <td>...</td>\n",
              "      <td>...</td>\n",
              "      <td>...</td>\n",
              "      <td>...</td>\n",
              "      <td>...</td>\n",
              "      <td>...</td>\n",
              "      <td>...</td>\n",
              "      <td>...</td>\n",
              "      <td>...</td>\n",
              "      <td>...</td>\n",
              "      <td>...</td>\n",
              "      <td>...</td>\n",
              "      <td>...</td>\n",
              "      <td>...</td>\n",
              "      <td>...</td>\n",
              "      <td>...</td>\n",
              "      <td>...</td>\n",
              "      <td>...</td>\n",
              "    </tr>\n",
              "    <tr>\n",
              "      <th>95</th>\n",
              "      <td>2013-09-20 13:12:00</td>\n",
              "      <td>Chad Sullivan</td>\n",
              "      <td>anthonywilliams@williams.org</td>\n",
              "      <td>327.713.1854x0643</td>\n",
              "      <td>855 Fuentes Flats</td>\n",
              "      <td>Suite</td>\n",
              "      <td>Initial Request</td>\n",
              "      <td>no</td>\n",
              "      <td>194653</td>\n",
              "      <td>838-02-9837</td>\n",
              "      <td>1994-12-21</td>\n",
              "      <td>Female</td>\n",
              "      <td>North Danaside</td>\n",
              "      <td>Algeria</td>\n",
              "      <td>Guernsey</td>\n",
              "      <td>Sao Tome and Principe</td>\n",
              "      <td>Divorced</td>\n",
              "      <td>Hispanic or Latino</td>\n",
              "      <td>White</td>\n",
              "      <td>no</td>\n",
              "      <td>false</td>\n",
              "      <td>yes</td>\n",
              "      <td>no</td>\n",
              "      <td>yes</td>\n",
              "      <td>no</td>\n",
              "      <td>no</td>\n",
              "      <td>no</td>\n",
              "      <td>yes</td>\n",
              "    </tr>\n",
              "    <tr>\n",
              "      <th>96</th>\n",
              "      <td>2013-09-20 13:12:00</td>\n",
              "      <td>Margaret Baird</td>\n",
              "      <td>richardburns@powell-fisher.com</td>\n",
              "      <td>001-992-061-2688</td>\n",
              "      <td>9592 Sheila Knoll</td>\n",
              "      <td>Suite</td>\n",
              "      <td>Renewal Request</td>\n",
              "      <td>yes</td>\n",
              "      <td>943625</td>\n",
              "      <td>857-97-0256</td>\n",
              "      <td>1954-04-20</td>\n",
              "      <td>Female</td>\n",
              "      <td>West John</td>\n",
              "      <td>Liechtenstein</td>\n",
              "      <td>Spain</td>\n",
              "      <td>Bahrain</td>\n",
              "      <td>Single</td>\n",
              "      <td>Hispanic or Latino</td>\n",
              "      <td>Native Hawaiian</td>\n",
              "      <td>no</td>\n",
              "      <td>false</td>\n",
              "      <td>yes</td>\n",
              "      <td>yes</td>\n",
              "      <td>no</td>\n",
              "      <td>yes</td>\n",
              "      <td>yes</td>\n",
              "      <td>no</td>\n",
              "      <td>yes</td>\n",
              "    </tr>\n",
              "    <tr>\n",
              "      <th>97</th>\n",
              "      <td>2013-09-20 13:12:00</td>\n",
              "      <td>Tyler Gonzalez</td>\n",
              "      <td>hschmidt@gmail.com</td>\n",
              "      <td>913-306-7345x72216</td>\n",
              "      <td>77091 David Turnpike</td>\n",
              "      <td>Apartment</td>\n",
              "      <td>Renewal Request</td>\n",
              "      <td>no</td>\n",
              "      <td>444282</td>\n",
              "      <td>296-99-7095</td>\n",
              "      <td>1922-02-08</td>\n",
              "      <td>Male</td>\n",
              "      <td>Jenkinstown</td>\n",
              "      <td>Central African Republic</td>\n",
              "      <td>Nigeria</td>\n",
              "      <td>San Marino</td>\n",
              "      <td>Divorced</td>\n",
              "      <td>Not Hispanic or latino</td>\n",
              "      <td>White</td>\n",
              "      <td>yes</td>\n",
              "      <td>false</td>\n",
              "      <td>yes</td>\n",
              "      <td>no</td>\n",
              "      <td>yes</td>\n",
              "      <td>no</td>\n",
              "      <td>no</td>\n",
              "      <td>no</td>\n",
              "      <td>no</td>\n",
              "    </tr>\n",
              "    <tr>\n",
              "      <th>98</th>\n",
              "      <td>2013-09-20 13:12:00</td>\n",
              "      <td>David Miller</td>\n",
              "      <td>idickerson@gmail.com</td>\n",
              "      <td>389.679.8955x7658</td>\n",
              "      <td>96418 Moore Extension</td>\n",
              "      <td>Apartment</td>\n",
              "      <td>Renewal Request</td>\n",
              "      <td>no</td>\n",
              "      <td>353090</td>\n",
              "      <td>066-67-5673</td>\n",
              "      <td>1935-11-29</td>\n",
              "      <td>Male</td>\n",
              "      <td>Pricefort</td>\n",
              "      <td>Puerto Rico</td>\n",
              "      <td>India</td>\n",
              "      <td>Chile</td>\n",
              "      <td>Divorced</td>\n",
              "      <td>Hispanic or Latino</td>\n",
              "      <td>American Indian</td>\n",
              "      <td>no</td>\n",
              "      <td>false</td>\n",
              "      <td>yes</td>\n",
              "      <td>yes</td>\n",
              "      <td>yes</td>\n",
              "      <td>no</td>\n",
              "      <td>no</td>\n",
              "      <td>no</td>\n",
              "      <td>no</td>\n",
              "    </tr>\n",
              "    <tr>\n",
              "      <th>99</th>\n",
              "      <td>2013-09-20 13:12:00</td>\n",
              "      <td>Heather Nielsen</td>\n",
              "      <td>ajohnson@spencer.com</td>\n",
              "      <td>001-454-980-3650x57971</td>\n",
              "      <td>4411 Darlene Rue</td>\n",
              "      <td>Suite</td>\n",
              "      <td>Renewal Request</td>\n",
              "      <td>no</td>\n",
              "      <td>655485</td>\n",
              "      <td>391-60-2262</td>\n",
              "      <td>1948-04-04</td>\n",
              "      <td>Male</td>\n",
              "      <td>North Matthew</td>\n",
              "      <td>Kuwait</td>\n",
              "      <td>Jordan</td>\n",
              "      <td>Gibraltar</td>\n",
              "      <td>Married</td>\n",
              "      <td>Not Hispanic or latino</td>\n",
              "      <td>White</td>\n",
              "      <td>yes</td>\n",
              "      <td>false</td>\n",
              "      <td>yes</td>\n",
              "      <td>yes</td>\n",
              "      <td>no</td>\n",
              "      <td>yes</td>\n",
              "      <td>yes</td>\n",
              "      <td>no</td>\n",
              "      <td>no</td>\n",
              "    </tr>\n",
              "  </tbody>\n",
              "</table>\n",
              "<p>100 rows × 28 columns</p>\n",
              "</div>"
            ],
            "text/plain": [
              "0             Timestamp  ... Do you pose a threat to national security or public safety?\n",
              "0   2013-09-20 13:12:00  ...                                                 no         \n",
              "1   2013-09-20 13:12:00  ...                                                 no         \n",
              "2   2013-09-20 13:12:00  ...                                                 no         \n",
              "3   2013-09-20 13:12:00  ...                                                 no         \n",
              "4   2013-09-20 13:12:00  ...                                                 no         \n",
              "..                  ...  ...                                                ...         \n",
              "95  2013-09-20 13:12:00  ...                                                yes         \n",
              "96  2013-09-20 13:12:00  ...                                                yes         \n",
              "97  2013-09-20 13:12:00  ...                                                 no         \n",
              "98  2013-09-20 13:12:00  ...                                                 no         \n",
              "99  2013-09-20 13:12:00  ...                                                 no         \n",
              "\n",
              "[100 rows x 28 columns]"
            ]
          },
          "metadata": {
            "tags": []
          },
          "execution_count": 16
        }
      ]
    },
    {
      "cell_type": "code",
      "metadata": {
        "id": "pfB56XXcT8g2"
      },
      "source": [
        "# df[\"Flag\"] = [np.random.choice([True, False]) for i in range(len(df))]"
      ],
      "execution_count": null,
      "outputs": []
    },
    {
      "cell_type": "markdown",
      "metadata": {
        "id": "0WWQfXZjz584"
      },
      "source": [
        "# Evaluate DACA Applicatant"
      ]
    },
    {
      "cell_type": "markdown",
      "metadata": {
        "id": "_u4I8I2Qn3Kg"
      },
      "source": [
        "1. added questions to google form, and edit get_random_row function to include random data for these new questions -- done!!✅\n",
        "2. write a function, given an applicant (a row of data) whether or not they are rejected or accepted based on https://www.chavezlawgroup.com/daca-immigration/ -- done!!✅"
      ]
    },
    {
      "cell_type": "code",
      "metadata": {
        "id": "6tT0f_jXT8g2"
      },
      "source": [
        "def evaluate_form(row):\n",
        "    condition = row[\"Have you EVER been arrested for, charged with, or convicted of a felony or misdemeanor, including incidents handled in juvenile court, in the United States? Do not include minor traffic violations unless they were alcohol- or drug-related\"] == \"false\"\n",
        "    #return (datetime.today() - row[\"DOB\"]) > datetime.datetime(10 years)\n",
        "    if not condition:\n",
        "      return \"FLAGGED\"\n",
        "    for i in range(21,28):\n",
        "      if row[i] != 'yes': \n",
        "        return \"FLAGGED\" \n",
        "    return \"good\""
      ],
      "execution_count": 30,
      "outputs": []
    },
    {
      "cell_type": "code",
      "metadata": {
        "scrolled": true,
        "colab": {
          "base_uri": "https://localhost:8080/",
          "height": 35
        },
        "id": "L8s86qm0T8g3",
        "outputId": "8ef18a8f-733f-49a6-f751-e494308fb873"
      },
      "source": [
        "evaluate_form(df.iloc[1])"
      ],
      "execution_count": 31,
      "outputs": [
        {
          "output_type": "execute_result",
          "data": {
            "application/vnd.google.colaboratory.intrinsic+json": {
              "type": "string"
            },
            "text/plain": [
              "'FLAGGED'"
            ]
          },
          "metadata": {
            "tags": []
          },
          "execution_count": 31
        }
      ]
    },
    {
      "cell_type": "markdown",
      "metadata": {
        "id": "mooUfUEu0375"
      },
      "source": [
        "# Sentiment Analysis for Petition"
      ]
    },
    {
      "cell_type": "code",
      "metadata": {
        "colab": {
          "base_uri": "https://localhost:8080/"
        },
        "id": "roGXTRPx0Her",
        "outputId": "9056e7e3-c5c2-46ce-e518-90c426c4d801"
      },
      "source": [
        "pip install transformers"
      ],
      "execution_count": 32,
      "outputs": [
        {
          "output_type": "stream",
          "text": [
            "Collecting transformers\n",
            "\u001b[?25l  Downloading https://files.pythonhosted.org/packages/d8/b2/57495b5309f09fa501866e225c84532d1fd89536ea62406b2181933fb418/transformers-4.5.1-py3-none-any.whl (2.1MB)\n",
            "\u001b[K     |████████████████████████████████| 2.1MB 5.6MB/s \n",
            "\u001b[?25hRequirement already satisfied: importlib-metadata; python_version < \"3.8\" in /usr/local/lib/python3.7/dist-packages (from transformers) (3.10.1)\n",
            "Requirement already satisfied: filelock in /usr/local/lib/python3.7/dist-packages (from transformers) (3.0.12)\n",
            "Collecting tokenizers<0.11,>=0.10.1\n",
            "\u001b[?25l  Downloading https://files.pythonhosted.org/packages/ae/04/5b870f26a858552025a62f1649c20d29d2672c02ff3c3fb4c688ca46467a/tokenizers-0.10.2-cp37-cp37m-manylinux2010_x86_64.whl (3.3MB)\n",
            "\u001b[K     |████████████████████████████████| 3.3MB 19.7MB/s \n",
            "\u001b[?25hRequirement already satisfied: packaging in /usr/local/lib/python3.7/dist-packages (from transformers) (20.9)\n",
            "Requirement already satisfied: requests in /usr/local/lib/python3.7/dist-packages (from transformers) (2.23.0)\n",
            "Requirement already satisfied: tqdm>=4.27 in /usr/local/lib/python3.7/dist-packages (from transformers) (4.41.1)\n",
            "Collecting sacremoses\n",
            "\u001b[?25l  Downloading https://files.pythonhosted.org/packages/75/ee/67241dc87f266093c533a2d4d3d69438e57d7a90abb216fa076e7d475d4a/sacremoses-0.0.45-py3-none-any.whl (895kB)\n",
            "\u001b[K     |████████████████████████████████| 901kB 35.6MB/s \n",
            "\u001b[?25hRequirement already satisfied: numpy>=1.17 in /usr/local/lib/python3.7/dist-packages (from transformers) (1.19.5)\n",
            "Requirement already satisfied: regex!=2019.12.17 in /usr/local/lib/python3.7/dist-packages (from transformers) (2019.12.20)\n",
            "Requirement already satisfied: zipp>=0.5 in /usr/local/lib/python3.7/dist-packages (from importlib-metadata; python_version < \"3.8\"->transformers) (3.4.1)\n",
            "Requirement already satisfied: typing-extensions>=3.6.4; python_version < \"3.8\" in /usr/local/lib/python3.7/dist-packages (from importlib-metadata; python_version < \"3.8\"->transformers) (3.7.4.3)\n",
            "Requirement already satisfied: pyparsing>=2.0.2 in /usr/local/lib/python3.7/dist-packages (from packaging->transformers) (2.4.7)\n",
            "Requirement already satisfied: chardet<4,>=3.0.2 in /usr/local/lib/python3.7/dist-packages (from requests->transformers) (3.0.4)\n",
            "Requirement already satisfied: urllib3!=1.25.0,!=1.25.1,<1.26,>=1.21.1 in /usr/local/lib/python3.7/dist-packages (from requests->transformers) (1.24.3)\n",
            "Requirement already satisfied: idna<3,>=2.5 in /usr/local/lib/python3.7/dist-packages (from requests->transformers) (2.10)\n",
            "Requirement already satisfied: certifi>=2017.4.17 in /usr/local/lib/python3.7/dist-packages (from requests->transformers) (2020.12.5)\n",
            "Requirement already satisfied: joblib in /usr/local/lib/python3.7/dist-packages (from sacremoses->transformers) (1.0.1)\n",
            "Requirement already satisfied: six in /usr/local/lib/python3.7/dist-packages (from sacremoses->transformers) (1.15.0)\n",
            "Requirement already satisfied: click in /usr/local/lib/python3.7/dist-packages (from sacremoses->transformers) (7.1.2)\n",
            "Installing collected packages: tokenizers, sacremoses, transformers\n",
            "Successfully installed sacremoses-0.0.45 tokenizers-0.10.2 transformers-4.5.1\n"
          ],
          "name": "stdout"
        }
      ]
    },
    {
      "cell_type": "code",
      "metadata": {
        "colab": {
          "base_uri": "https://localhost:8080/",
          "height": 330,
          "referenced_widgets": [
            "ca90f060764146e1af778d668e8c0e26",
            "7f3f7f35f8a44090b842e88934b65efb",
            "6a4283d4a47a41b58b1f71ed2689aa8f",
            "9ffe0d08f42b40cea6e648c48d8c442b",
            "e5fada7073b54417a1f66a3e7154b29f",
            "a54bf357a5cc4cd2a1d61fe00b66b31b",
            "371e7bf99997440c8a45992d71c131eb",
            "0df88b3bf8f44f96981d7d71d2830488",
            "99e5b95d81e2484389ec8037c1f228dd",
            "a2a3bb4f8de9462b9f5c2764856bc48c",
            "bfb0d9d93d2e4599ba7248a021a3b88e",
            "17602815dfde45f682542d78f1d4b330",
            "76e0591bbbac4d898e8fc8ad3ec4bc8b",
            "b0feb00bee99432da1721efdca48bf48",
            "b4e23671bde2435eb0a8027b1b38199b",
            "42773b8dfae54e198daad50df29c9f32",
            "06e32355d419485594a4db32262ab76d",
            "6e1d0a2d494440a1b0ecd2f6842d592c",
            "d8f0964fd36f48bba34425d59b7303b3",
            "af2e2459ab3b479ca3375d280c4cc2f2",
            "0f29f4d0ad4d4ce4a6ac1009e81686ad",
            "470dc24a553147fc99bd6cb202f50725",
            "c065189029cd48cfb76fff1655133902",
            "0fa9ee0b5d154414a07dad3d6f5c7ab8",
            "651eb4a7eb1143c1a083ee696128ec3e",
            "3365545c2d3345548de813420c948e0e",
            "0ce509cc404841d5a885229a9fd419cf",
            "c8b676e2e34844018ea038d5c3fcd976",
            "7476c92d018d46cbb5238cd3ee3ad5d4",
            "1723f670babb49bcaaa63d8cb28c161d",
            "b863dab925cf4b22b0e3b09a3021b1d5",
            "9e3de09edb7e478db357e8527f6b94a2",
            "c0dbbcf3a04e4019a08ce35e3c5cac97",
            "10c90c17bd9c462fac889cc709cedbcc",
            "93e4a0e0da2146feac3434c5eae76bee",
            "14013ea946dd4cadabf2f46882c0a347",
            "f4626f830a6d4d11b53bc9c168c5e39f",
            "9ef9fdb85c334d01bb4a987d239e716a",
            "b7734cea1d4f4f4cbf4cdd7bad42a6e7",
            "d55301c14a4e4c91a9b25b16c53cebd2"
          ]
        },
        "id": "XMszIPp-1B9b",
        "outputId": "aad3a98f-000e-4079-cad0-0a95d5d09208"
      },
      "source": [
        "from transformers import BertTokenizer, TFBertForSequenceClassification\n",
        "from transformers import InputExample, InputFeatures\n",
        "\n",
        "model = TFBertForSequenceClassification.from_pretrained(\"bert-base-uncased\")\n",
        "tokenizer = BertTokenizer.from_pretrained(\"bert-base-uncased\")"
      ],
      "execution_count": 33,
      "outputs": [
        {
          "output_type": "display_data",
          "data": {
            "application/vnd.jupyter.widget-view+json": {
              "model_id": "ca90f060764146e1af778d668e8c0e26",
              "version_minor": 0,
              "version_major": 2
            },
            "text/plain": [
              "HBox(children=(FloatProgress(value=0.0, description='Downloading', max=570.0, style=ProgressStyle(description_…"
            ]
          },
          "metadata": {
            "tags": []
          }
        },
        {
          "output_type": "stream",
          "text": [
            "\n"
          ],
          "name": "stdout"
        },
        {
          "output_type": "display_data",
          "data": {
            "application/vnd.jupyter.widget-view+json": {
              "model_id": "99e5b95d81e2484389ec8037c1f228dd",
              "version_minor": 0,
              "version_major": 2
            },
            "text/plain": [
              "HBox(children=(FloatProgress(value=0.0, description='Downloading', max=536063208.0, style=ProgressStyle(descri…"
            ]
          },
          "metadata": {
            "tags": []
          }
        },
        {
          "output_type": "stream",
          "text": [
            "\n"
          ],
          "name": "stdout"
        },
        {
          "output_type": "stream",
          "text": [
            "All model checkpoint layers were used when initializing TFBertForSequenceClassification.\n",
            "\n",
            "Some layers of TFBertForSequenceClassification were not initialized from the model checkpoint at bert-base-uncased and are newly initialized: ['classifier']\n",
            "You should probably TRAIN this model on a down-stream task to be able to use it for predictions and inference.\n"
          ],
          "name": "stderr"
        },
        {
          "output_type": "display_data",
          "data": {
            "application/vnd.jupyter.widget-view+json": {
              "model_id": "06e32355d419485594a4db32262ab76d",
              "version_minor": 0,
              "version_major": 2
            },
            "text/plain": [
              "HBox(children=(FloatProgress(value=0.0, description='Downloading', max=231508.0, style=ProgressStyle(descripti…"
            ]
          },
          "metadata": {
            "tags": []
          }
        },
        {
          "output_type": "stream",
          "text": [
            "\n"
          ],
          "name": "stdout"
        },
        {
          "output_type": "display_data",
          "data": {
            "application/vnd.jupyter.widget-view+json": {
              "model_id": "651eb4a7eb1143c1a083ee696128ec3e",
              "version_minor": 0,
              "version_major": 2
            },
            "text/plain": [
              "HBox(children=(FloatProgress(value=0.0, description='Downloading', max=28.0, style=ProgressStyle(description_w…"
            ]
          },
          "metadata": {
            "tags": []
          }
        },
        {
          "output_type": "stream",
          "text": [
            "\n"
          ],
          "name": "stdout"
        },
        {
          "output_type": "display_data",
          "data": {
            "application/vnd.jupyter.widget-view+json": {
              "model_id": "c0dbbcf3a04e4019a08ce35e3c5cac97",
              "version_minor": 0,
              "version_major": 2
            },
            "text/plain": [
              "HBox(children=(FloatProgress(value=0.0, description='Downloading', max=466062.0, style=ProgressStyle(descripti…"
            ]
          },
          "metadata": {
            "tags": []
          }
        },
        {
          "output_type": "stream",
          "text": [
            "\n"
          ],
          "name": "stdout"
        }
      ]
    },
    {
      "cell_type": "code",
      "metadata": {
        "colab": {
          "base_uri": "https://localhost:8080/"
        },
        "id": "HOnBEyOk1IgK",
        "outputId": "fe4d8fbd-bd9a-4a28-d1b0-caff16eba630"
      },
      "source": [
        "!pip install transformers"
      ],
      "execution_count": 1,
      "outputs": [
        {
          "output_type": "stream",
          "text": [
            "Collecting transformers\n",
            "\u001b[?25l  Downloading https://files.pythonhosted.org/packages/d8/b2/57495b5309f09fa501866e225c84532d1fd89536ea62406b2181933fb418/transformers-4.5.1-py3-none-any.whl (2.1MB)\n",
            "\r\u001b[K     |▏                               | 10kB 13.0MB/s eta 0:00:01\r\u001b[K     |▎                               | 20kB 17.8MB/s eta 0:00:01\r\u001b[K     |▌                               | 30kB 19.2MB/s eta 0:00:01\r\u001b[K     |▋                               | 40kB 13.7MB/s eta 0:00:01\r\u001b[K     |▉                               | 51kB 10.2MB/s eta 0:00:01\r\u001b[K     |█                               | 61kB 9.3MB/s eta 0:00:01\r\u001b[K     |█▏                              | 71kB 9.6MB/s eta 0:00:01\r\u001b[K     |█▎                              | 81kB 10.4MB/s eta 0:00:01\r\u001b[K     |█▍                              | 92kB 9.7MB/s eta 0:00:01\r\u001b[K     |█▋                              | 102kB 9.6MB/s eta 0:00:01\r\u001b[K     |█▊                              | 112kB 9.6MB/s eta 0:00:01\r\u001b[K     |██                              | 122kB 9.6MB/s eta 0:00:01\r\u001b[K     |██                              | 133kB 9.6MB/s eta 0:00:01\r\u001b[K     |██▎                             | 143kB 9.6MB/s eta 0:00:01\r\u001b[K     |██▍                             | 153kB 9.6MB/s eta 0:00:01\r\u001b[K     |██▌                             | 163kB 9.6MB/s eta 0:00:01\r\u001b[K     |██▊                             | 174kB 9.6MB/s eta 0:00:01\r\u001b[K     |██▉                             | 184kB 9.6MB/s eta 0:00:01\r\u001b[K     |███                             | 194kB 9.6MB/s eta 0:00:01\r\u001b[K     |███▏                            | 204kB 9.6MB/s eta 0:00:01\r\u001b[K     |███▍                            | 215kB 9.6MB/s eta 0:00:01\r\u001b[K     |███▌                            | 225kB 9.6MB/s eta 0:00:01\r\u001b[K     |███▋                            | 235kB 9.6MB/s eta 0:00:01\r\u001b[K     |███▉                            | 245kB 9.6MB/s eta 0:00:01\r\u001b[K     |████                            | 256kB 9.6MB/s eta 0:00:01\r\u001b[K     |████▏                           | 266kB 9.6MB/s eta 0:00:01\r\u001b[K     |████▎                           | 276kB 9.6MB/s eta 0:00:01\r\u001b[K     |████▌                           | 286kB 9.6MB/s eta 0:00:01\r\u001b[K     |████▋                           | 296kB 9.6MB/s eta 0:00:01\r\u001b[K     |████▊                           | 307kB 9.6MB/s eta 0:00:01\r\u001b[K     |█████                           | 317kB 9.6MB/s eta 0:00:01\r\u001b[K     |█████                           | 327kB 9.6MB/s eta 0:00:01\r\u001b[K     |█████▎                          | 337kB 9.6MB/s eta 0:00:01\r\u001b[K     |█████▍                          | 348kB 9.6MB/s eta 0:00:01\r\u001b[K     |█████▋                          | 358kB 9.6MB/s eta 0:00:01\r\u001b[K     |█████▊                          | 368kB 9.6MB/s eta 0:00:01\r\u001b[K     |█████▉                          | 378kB 9.6MB/s eta 0:00:01\r\u001b[K     |██████                          | 389kB 9.6MB/s eta 0:00:01\r\u001b[K     |██████▏                         | 399kB 9.6MB/s eta 0:00:01\r\u001b[K     |██████▍                         | 409kB 9.6MB/s eta 0:00:01\r\u001b[K     |██████▌                         | 419kB 9.6MB/s eta 0:00:01\r\u001b[K     |██████▊                         | 430kB 9.6MB/s eta 0:00:01\r\u001b[K     |██████▉                         | 440kB 9.6MB/s eta 0:00:01\r\u001b[K     |███████                         | 450kB 9.6MB/s eta 0:00:01\r\u001b[K     |███████▏                        | 460kB 9.6MB/s eta 0:00:01\r\u001b[K     |███████▎                        | 471kB 9.6MB/s eta 0:00:01\r\u001b[K     |███████▌                        | 481kB 9.6MB/s eta 0:00:01\r\u001b[K     |███████▋                        | 491kB 9.6MB/s eta 0:00:01\r\u001b[K     |███████▉                        | 501kB 9.6MB/s eta 0:00:01\r\u001b[K     |████████                        | 512kB 9.6MB/s eta 0:00:01\r\u001b[K     |████████                        | 522kB 9.6MB/s eta 0:00:01\r\u001b[K     |████████▎                       | 532kB 9.6MB/s eta 0:00:01\r\u001b[K     |████████▍                       | 542kB 9.6MB/s eta 0:00:01\r\u001b[K     |████████▋                       | 552kB 9.6MB/s eta 0:00:01\r\u001b[K     |████████▊                       | 563kB 9.6MB/s eta 0:00:01\r\u001b[K     |█████████                       | 573kB 9.6MB/s eta 0:00:01\r\u001b[K     |█████████                       | 583kB 9.6MB/s eta 0:00:01\r\u001b[K     |█████████▎                      | 593kB 9.6MB/s eta 0:00:01\r\u001b[K     |█████████▍                      | 604kB 9.6MB/s eta 0:00:01\r\u001b[K     |█████████▌                      | 614kB 9.6MB/s eta 0:00:01\r\u001b[K     |█████████▊                      | 624kB 9.6MB/s eta 0:00:01\r\u001b[K     |█████████▉                      | 634kB 9.6MB/s eta 0:00:01\r\u001b[K     |██████████                      | 645kB 9.6MB/s eta 0:00:01\r\u001b[K     |██████████▏                     | 655kB 9.6MB/s eta 0:00:01\r\u001b[K     |██████████▍                     | 665kB 9.6MB/s eta 0:00:01\r\u001b[K     |██████████▌                     | 675kB 9.6MB/s eta 0:00:01\r\u001b[K     |██████████▋                     | 686kB 9.6MB/s eta 0:00:01\r\u001b[K     |██████████▉                     | 696kB 9.6MB/s eta 0:00:01\r\u001b[K     |███████████                     | 706kB 9.6MB/s eta 0:00:01\r\u001b[K     |███████████▏                    | 716kB 9.6MB/s eta 0:00:01\r\u001b[K     |███████████▎                    | 727kB 9.6MB/s eta 0:00:01\r\u001b[K     |███████████▌                    | 737kB 9.6MB/s eta 0:00:01\r\u001b[K     |███████████▋                    | 747kB 9.6MB/s eta 0:00:01\r\u001b[K     |███████████▊                    | 757kB 9.6MB/s eta 0:00:01\r\u001b[K     |████████████                    | 768kB 9.6MB/s eta 0:00:01\r\u001b[K     |████████████                    | 778kB 9.6MB/s eta 0:00:01\r\u001b[K     |████████████▎                   | 788kB 9.6MB/s eta 0:00:01\r\u001b[K     |████████████▍                   | 798kB 9.6MB/s eta 0:00:01\r\u001b[K     |████████████▋                   | 808kB 9.6MB/s eta 0:00:01\r\u001b[K     |████████████▊                   | 819kB 9.6MB/s eta 0:00:01\r\u001b[K     |████████████▉                   | 829kB 9.6MB/s eta 0:00:01\r\u001b[K     |█████████████                   | 839kB 9.6MB/s eta 0:00:01\r\u001b[K     |█████████████▏                  | 849kB 9.6MB/s eta 0:00:01\r\u001b[K     |█████████████▍                  | 860kB 9.6MB/s eta 0:00:01\r\u001b[K     |█████████████▌                  | 870kB 9.6MB/s eta 0:00:01\r\u001b[K     |█████████████▊                  | 880kB 9.6MB/s eta 0:00:01\r\u001b[K     |█████████████▉                  | 890kB 9.6MB/s eta 0:00:01\r\u001b[K     |██████████████                  | 901kB 9.6MB/s eta 0:00:01\r\u001b[K     |██████████████▏                 | 911kB 9.6MB/s eta 0:00:01\r\u001b[K     |██████████████▎                 | 921kB 9.6MB/s eta 0:00:01\r\u001b[K     |██████████████▌                 | 931kB 9.6MB/s eta 0:00:01\r\u001b[K     |██████████████▋                 | 942kB 9.6MB/s eta 0:00:01\r\u001b[K     |██████████████▉                 | 952kB 9.6MB/s eta 0:00:01\r\u001b[K     |███████████████                 | 962kB 9.6MB/s eta 0:00:01\r\u001b[K     |███████████████                 | 972kB 9.6MB/s eta 0:00:01\r\u001b[K     |███████████████▎                | 983kB 9.6MB/s eta 0:00:01\r\u001b[K     |███████████████▍                | 993kB 9.6MB/s eta 0:00:01\r\u001b[K     |███████████████▋                | 1.0MB 9.6MB/s eta 0:00:01\r\u001b[K     |███████████████▊                | 1.0MB 9.6MB/s eta 0:00:01\r\u001b[K     |████████████████                | 1.0MB 9.6MB/s eta 0:00:01\r\u001b[K     |████████████████                | 1.0MB 9.6MB/s eta 0:00:01\r\u001b[K     |████████████████▏               | 1.0MB 9.6MB/s eta 0:00:01\r\u001b[K     |████████████████▍               | 1.1MB 9.6MB/s eta 0:00:01\r\u001b[K     |████████████████▌               | 1.1MB 9.6MB/s eta 0:00:01\r\u001b[K     |████████████████▊               | 1.1MB 9.6MB/s eta 0:00:01\r\u001b[K     |████████████████▉               | 1.1MB 9.6MB/s eta 0:00:01\r\u001b[K     |█████████████████               | 1.1MB 9.6MB/s eta 0:00:01\r\u001b[K     |█████████████████▏              | 1.1MB 9.6MB/s eta 0:00:01\r\u001b[K     |█████████████████▍              | 1.1MB 9.6MB/s eta 0:00:01\r\u001b[K     |█████████████████▌              | 1.1MB 9.6MB/s eta 0:00:01\r\u001b[K     |█████████████████▋              | 1.1MB 9.6MB/s eta 0:00:01\r\u001b[K     |█████████████████▉              | 1.1MB 9.6MB/s eta 0:00:01\r\u001b[K     |██████████████████              | 1.2MB 9.6MB/s eta 0:00:01\r\u001b[K     |██████████████████▏             | 1.2MB 9.6MB/s eta 0:00:01\r\u001b[K     |██████████████████▎             | 1.2MB 9.6MB/s eta 0:00:01\r\u001b[K     |██████████████████▌             | 1.2MB 9.6MB/s eta 0:00:01\r\u001b[K     |██████████████████▋             | 1.2MB 9.6MB/s eta 0:00:01\r\u001b[K     |██████████████████▊             | 1.2MB 9.6MB/s eta 0:00:01\r\u001b[K     |███████████████████             | 1.2MB 9.6MB/s eta 0:00:01\r\u001b[K     |███████████████████             | 1.2MB 9.6MB/s eta 0:00:01\r\u001b[K     |███████████████████▎            | 1.2MB 9.6MB/s eta 0:00:01\r\u001b[K     |███████████████████▍            | 1.2MB 9.6MB/s eta 0:00:01\r\u001b[K     |███████████████████▋            | 1.3MB 9.6MB/s eta 0:00:01\r\u001b[K     |███████████████████▊            | 1.3MB 9.6MB/s eta 0:00:01\r\u001b[K     |███████████████████▉            | 1.3MB 9.6MB/s eta 0:00:01\r\u001b[K     |████████████████████            | 1.3MB 9.6MB/s eta 0:00:01\r\u001b[K     |████████████████████▏           | 1.3MB 9.6MB/s eta 0:00:01\r\u001b[K     |████████████████████▍           | 1.3MB 9.6MB/s eta 0:00:01\r\u001b[K     |████████████████████▌           | 1.3MB 9.6MB/s eta 0:00:01\r\u001b[K     |████████████████████▊           | 1.3MB 9.6MB/s eta 0:00:01\r\u001b[K     |████████████████████▉           | 1.3MB 9.6MB/s eta 0:00:01\r\u001b[K     |█████████████████████           | 1.4MB 9.6MB/s eta 0:00:01\r\u001b[K     |█████████████████████▏          | 1.4MB 9.6MB/s eta 0:00:01\r\u001b[K     |█████████████████████▎          | 1.4MB 9.6MB/s eta 0:00:01\r\u001b[K     |█████████████████████▌          | 1.4MB 9.6MB/s eta 0:00:01\r\u001b[K     |█████████████████████▋          | 1.4MB 9.6MB/s eta 0:00:01\r\u001b[K     |█████████████████████▉          | 1.4MB 9.6MB/s eta 0:00:01\r\u001b[K     |██████████████████████          | 1.4MB 9.6MB/s eta 0:00:01\r\u001b[K     |██████████████████████          | 1.4MB 9.6MB/s eta 0:00:01\r\u001b[K     |██████████████████████▎         | 1.4MB 9.6MB/s eta 0:00:01\r\u001b[K     |██████████████████████▍         | 1.4MB 9.6MB/s eta 0:00:01\r\u001b[K     |██████████████████████▋         | 1.5MB 9.6MB/s eta 0:00:01\r\u001b[K     |██████████████████████▊         | 1.5MB 9.6MB/s eta 0:00:01\r\u001b[K     |███████████████████████         | 1.5MB 9.6MB/s eta 0:00:01\r\u001b[K     |███████████████████████         | 1.5MB 9.6MB/s eta 0:00:01\r\u001b[K     |███████████████████████▏        | 1.5MB 9.6MB/s eta 0:00:01\r\u001b[K     |███████████████████████▍        | 1.5MB 9.6MB/s eta 0:00:01\r\u001b[K     |███████████████████████▌        | 1.5MB 9.6MB/s eta 0:00:01\r\u001b[K     |███████████████████████▊        | 1.5MB 9.6MB/s eta 0:00:01\r\u001b[K     |███████████████████████▉        | 1.5MB 9.6MB/s eta 0:00:01\r\u001b[K     |████████████████████████        | 1.5MB 9.6MB/s eta 0:00:01\r\u001b[K     |████████████████████████▏       | 1.6MB 9.6MB/s eta 0:00:01\r\u001b[K     |████████████████████████▎       | 1.6MB 9.6MB/s eta 0:00:01\r\u001b[K     |████████████████████████▌       | 1.6MB 9.6MB/s eta 0:00:01\r\u001b[K     |████████████████████████▋       | 1.6MB 9.6MB/s eta 0:00:01\r\u001b[K     |████████████████████████▉       | 1.6MB 9.6MB/s eta 0:00:01\r\u001b[K     |█████████████████████████       | 1.6MB 9.6MB/s eta 0:00:01\r\u001b[K     |█████████████████████████▏      | 1.6MB 9.6MB/s eta 0:00:01\r\u001b[K     |█████████████████████████▎      | 1.6MB 9.6MB/s eta 0:00:01\r\u001b[K     |█████████████████████████▍      | 1.6MB 9.6MB/s eta 0:00:01\r\u001b[K     |█████████████████████████▋      | 1.6MB 9.6MB/s eta 0:00:01\r\u001b[K     |█████████████████████████▊      | 1.7MB 9.6MB/s eta 0:00:01\r\u001b[K     |██████████████████████████      | 1.7MB 9.6MB/s eta 0:00:01\r\u001b[K     |██████████████████████████      | 1.7MB 9.6MB/s eta 0:00:01\r\u001b[K     |██████████████████████████▎     | 1.7MB 9.6MB/s eta 0:00:01\r\u001b[K     |██████████████████████████▍     | 1.7MB 9.6MB/s eta 0:00:01\r\u001b[K     |██████████████████████████▋     | 1.7MB 9.6MB/s eta 0:00:01\r\u001b[K     |██████████████████████████▊     | 1.7MB 9.6MB/s eta 0:00:01\r\u001b[K     |██████████████████████████▉     | 1.7MB 9.6MB/s eta 0:00:01\r\u001b[K     |███████████████████████████     | 1.7MB 9.6MB/s eta 0:00:01\r\u001b[K     |███████████████████████████▏    | 1.8MB 9.6MB/s eta 0:00:01\r\u001b[K     |███████████████████████████▍    | 1.8MB 9.6MB/s eta 0:00:01\r\u001b[K     |███████████████████████████▌    | 1.8MB 9.6MB/s eta 0:00:01\r\u001b[K     |███████████████████████████▊    | 1.8MB 9.6MB/s eta 0:00:01\r\u001b[K     |███████████████████████████▉    | 1.8MB 9.6MB/s eta 0:00:01\r\u001b[K     |████████████████████████████    | 1.8MB 9.6MB/s eta 0:00:01\r\u001b[K     |████████████████████████████▏   | 1.8MB 9.6MB/s eta 0:00:01\r\u001b[K     |████████████████████████████▎   | 1.8MB 9.6MB/s eta 0:00:01\r\u001b[K     |████████████████████████████▌   | 1.8MB 9.6MB/s eta 0:00:01\r\u001b[K     |████████████████████████████▋   | 1.8MB 9.6MB/s eta 0:00:01\r\u001b[K     |████████████████████████████▉   | 1.9MB 9.6MB/s eta 0:00:01\r\u001b[K     |█████████████████████████████   | 1.9MB 9.6MB/s eta 0:00:01\r\u001b[K     |█████████████████████████████   | 1.9MB 9.6MB/s eta 0:00:01\r\u001b[K     |█████████████████████████████▎  | 1.9MB 9.6MB/s eta 0:00:01\r\u001b[K     |█████████████████████████████▍  | 1.9MB 9.6MB/s eta 0:00:01\r\u001b[K     |█████████████████████████████▋  | 1.9MB 9.6MB/s eta 0:00:01\r\u001b[K     |█████████████████████████████▊  | 1.9MB 9.6MB/s eta 0:00:01\r\u001b[K     |██████████████████████████████  | 1.9MB 9.6MB/s eta 0:00:01\r\u001b[K     |██████████████████████████████  | 1.9MB 9.6MB/s eta 0:00:01\r\u001b[K     |██████████████████████████████▏ | 1.9MB 9.6MB/s eta 0:00:01\r\u001b[K     |██████████████████████████████▍ | 2.0MB 9.6MB/s eta 0:00:01\r\u001b[K     |██████████████████████████████▌ | 2.0MB 9.6MB/s eta 0:00:01\r\u001b[K     |██████████████████████████████▊ | 2.0MB 9.6MB/s eta 0:00:01\r\u001b[K     |██████████████████████████████▉ | 2.0MB 9.6MB/s eta 0:00:01\r\u001b[K     |███████████████████████████████ | 2.0MB 9.6MB/s eta 0:00:01\r\u001b[K     |███████████████████████████████▏| 2.0MB 9.6MB/s eta 0:00:01\r\u001b[K     |███████████████████████████████▎| 2.0MB 9.6MB/s eta 0:00:01\r\u001b[K     |███████████████████████████████▌| 2.0MB 9.6MB/s eta 0:00:01\r\u001b[K     |███████████████████████████████▋| 2.0MB 9.6MB/s eta 0:00:01\r\u001b[K     |███████████████████████████████▉| 2.0MB 9.6MB/s eta 0:00:01\r\u001b[K     |████████████████████████████████| 2.1MB 9.6MB/s eta 0:00:01\r\u001b[K     |████████████████████████████████| 2.1MB 9.6MB/s \n",
            "\u001b[?25hRequirement already satisfied: requests in /usr/local/lib/python3.7/dist-packages (from transformers) (2.23.0)\n",
            "Requirement already satisfied: filelock in /usr/local/lib/python3.7/dist-packages (from transformers) (3.0.12)\n",
            "Requirement already satisfied: packaging in /usr/local/lib/python3.7/dist-packages (from transformers) (20.9)\n",
            "Requirement already satisfied: numpy>=1.17 in /usr/local/lib/python3.7/dist-packages (from transformers) (1.19.5)\n",
            "Requirement already satisfied: regex!=2019.12.17 in /usr/local/lib/python3.7/dist-packages (from transformers) (2019.12.20)\n",
            "Collecting sacremoses\n",
            "\u001b[?25l  Downloading https://files.pythonhosted.org/packages/75/ee/67241dc87f266093c533a2d4d3d69438e57d7a90abb216fa076e7d475d4a/sacremoses-0.0.45-py3-none-any.whl (895kB)\n",
            "\u001b[K     |████████████████████████████████| 901kB 37.3MB/s \n",
            "\u001b[?25hRequirement already satisfied: importlib-metadata; python_version < \"3.8\" in /usr/local/lib/python3.7/dist-packages (from transformers) (3.10.1)\n",
            "Requirement already satisfied: tqdm>=4.27 in /usr/local/lib/python3.7/dist-packages (from transformers) (4.41.1)\n",
            "Collecting tokenizers<0.11,>=0.10.1\n",
            "\u001b[?25l  Downloading https://files.pythonhosted.org/packages/ae/04/5b870f26a858552025a62f1649c20d29d2672c02ff3c3fb4c688ca46467a/tokenizers-0.10.2-cp37-cp37m-manylinux2010_x86_64.whl (3.3MB)\n",
            "\u001b[K     |████████████████████████████████| 3.3MB 49.2MB/s \n",
            "\u001b[?25hRequirement already satisfied: certifi>=2017.4.17 in /usr/local/lib/python3.7/dist-packages (from requests->transformers) (2020.12.5)\n",
            "Requirement already satisfied: urllib3!=1.25.0,!=1.25.1,<1.26,>=1.21.1 in /usr/local/lib/python3.7/dist-packages (from requests->transformers) (1.24.3)\n",
            "Requirement already satisfied: chardet<4,>=3.0.2 in /usr/local/lib/python3.7/dist-packages (from requests->transformers) (3.0.4)\n",
            "Requirement already satisfied: idna<3,>=2.5 in /usr/local/lib/python3.7/dist-packages (from requests->transformers) (2.10)\n",
            "Requirement already satisfied: pyparsing>=2.0.2 in /usr/local/lib/python3.7/dist-packages (from packaging->transformers) (2.4.7)\n",
            "Requirement already satisfied: click in /usr/local/lib/python3.7/dist-packages (from sacremoses->transformers) (7.1.2)\n",
            "Requirement already satisfied: joblib in /usr/local/lib/python3.7/dist-packages (from sacremoses->transformers) (1.0.1)\n",
            "Requirement already satisfied: six in /usr/local/lib/python3.7/dist-packages (from sacremoses->transformers) (1.15.0)\n",
            "Requirement already satisfied: zipp>=0.5 in /usr/local/lib/python3.7/dist-packages (from importlib-metadata; python_version < \"3.8\"->transformers) (3.4.1)\n",
            "Requirement already satisfied: typing-extensions>=3.6.4; python_version < \"3.8\" in /usr/local/lib/python3.7/dist-packages (from importlib-metadata; python_version < \"3.8\"->transformers) (3.7.4.3)\n",
            "Installing collected packages: sacremoses, tokenizers, transformers\n",
            "Successfully installed sacremoses-0.0.45 tokenizers-0.10.2 transformers-4.5.1\n"
          ],
          "name": "stdout"
        }
      ]
    },
    {
      "cell_type": "code",
      "metadata": {
        "id": "vGfRxhhdVtlr"
      },
      "source": [
        "from transformers import pipeline"
      ],
      "execution_count": 2,
      "outputs": []
    },
    {
      "cell_type": "code",
      "metadata": {
        "colab": {
          "base_uri": "https://localhost:8080/",
          "height": 213,
          "referenced_widgets": [
            "0ab1107cc0ba47e5bd993ff909c09be6",
            "93a5d72b2e1240d588b2e5f020fcad67",
            "3e548c490e7940b1a341d34514b8d8cc",
            "6015358c2a24483eab959d078906bf5a",
            "c0acaae6f7ec48b5af0069362201fe7f",
            "3e9e5584595245ffa60603ac20e80d68",
            "8da5d0ae12d941139bada06848c625ef",
            "4176c23cc59746a5a566088ca45d0b44",
            "ba451fe9c6c5428cbd8c9bebb107fdb1",
            "df0e7ff00141413abe2440449b2a8c3f",
            "572e239947774af5b476b23ba6635f0d",
            "69ce50a203414b0eb1a465aa4ad26ef5",
            "7c3299bf00d24f96a714a203380c4c33",
            "222629b6e8ff45faab29a254acd505c2",
            "d272ad8b116645d2a0dfe10fbb7f1bcc",
            "75be375cde2b4eeab61f4b41785bb7d7",
            "dfeaf6ee437746eeb4b967e0effd7b74",
            "c99f726215d5455286ac3113d4dd4b23",
            "b855691fde684897ab3c5965da7f7754",
            "82d984d3d9984547a63b2aa89e18e6ce",
            "89fb7c6f9da643d89ac900e379656a5e",
            "769ee9402887483a9de99e32d9a10656",
            "a010cb724c1c4425adc7cabf640ab365",
            "4ce6e778724a4a93a9dac20803a4ee92",
            "7e807402498541b69de3280a007b8613",
            "46ea09ca9f924b6d9ca60b83f8da7857",
            "ef3b4381f6124105bdda08b79f14cdfe",
            "6b085bfd37e74c5992b22c7a1fbdb750",
            "b7092a8518ac4cb9afaceab287277423",
            "6a64b897f62146caac64f4bdfc87f028",
            "32bf692d44344c7c82039e3fea4d073e",
            "b4f1aa4cff48415793c3e5e9d8007832"
          ]
        },
        "id": "FjuhM2aaVy4W",
        "outputId": "f1315089-279d-4e60-ac3c-51a7c5ce6f13"
      },
      "source": [
        "sentiment_analysis = pipeline(\"sentiment-analysis\")"
      ],
      "execution_count": 4,
      "outputs": [
        {
          "output_type": "display_data",
          "data": {
            "application/vnd.jupyter.widget-view+json": {
              "model_id": "0ab1107cc0ba47e5bd993ff909c09be6",
              "version_minor": 0,
              "version_major": 2
            },
            "text/plain": [
              "HBox(children=(FloatProgress(value=0.0, description='Downloading', max=629.0, style=ProgressStyle(description_…"
            ]
          },
          "metadata": {
            "tags": []
          }
        },
        {
          "output_type": "stream",
          "text": [
            "\n"
          ],
          "name": "stdout"
        },
        {
          "output_type": "display_data",
          "data": {
            "application/vnd.jupyter.widget-view+json": {
              "model_id": "ba451fe9c6c5428cbd8c9bebb107fdb1",
              "version_minor": 0,
              "version_major": 2
            },
            "text/plain": [
              "HBox(children=(FloatProgress(value=0.0, description='Downloading', max=267844284.0, style=ProgressStyle(descri…"
            ]
          },
          "metadata": {
            "tags": []
          }
        },
        {
          "output_type": "stream",
          "text": [
            "\n"
          ],
          "name": "stdout"
        },
        {
          "output_type": "display_data",
          "data": {
            "application/vnd.jupyter.widget-view+json": {
              "model_id": "dfeaf6ee437746eeb4b967e0effd7b74",
              "version_minor": 0,
              "version_major": 2
            },
            "text/plain": [
              "HBox(children=(FloatProgress(value=0.0, description='Downloading', max=231508.0, style=ProgressStyle(descripti…"
            ]
          },
          "metadata": {
            "tags": []
          }
        },
        {
          "output_type": "stream",
          "text": [
            "\n"
          ],
          "name": "stdout"
        },
        {
          "output_type": "display_data",
          "data": {
            "application/vnd.jupyter.widget-view+json": {
              "model_id": "7e807402498541b69de3280a007b8613",
              "version_minor": 0,
              "version_major": 2
            },
            "text/plain": [
              "HBox(children=(FloatProgress(value=0.0, description='Downloading', max=48.0, style=ProgressStyle(description_w…"
            ]
          },
          "metadata": {
            "tags": []
          }
        },
        {
          "output_type": "stream",
          "text": [
            "\n"
          ],
          "name": "stdout"
        }
      ]
    },
    {
      "cell_type": "code",
      "metadata": {
        "id": "Ca4EuMbtV3kR"
      },
      "source": [
        "#Work visa petition exapmles: https://www.usavisanow.com/h-1b-visa/employeremployee/sample-letter-to-uscis-in-house-consulting-company/\n",
        "pos_text = \"About the Petitioner – Acme, Inc. Headquartered in New York, Acme is a nine-year old global provider of high quality and cost-effective Information Technology Services.  We offer a range of expertise aimed at helping customers reengineer/reinvent their businesses to compete successfully in an ever changing marketplace.  We boast of one of the highest customer retention rates in the industry.Acme’s I-129-H Petition on behalf of Mr. Singh meets all the required criteria that a Petitioner must establish for the existence of an employer-employee relationship and that this relationship will continue to exist with the Beneficiary throughout the duration of the requested H-1B validity period.\"\n",
        "\n",
        "neg_text = \"Acme does not maintain much supervision\""
      ],
      "execution_count": 17,
      "outputs": []
    },
    {
      "cell_type": "code",
      "metadata": {
        "colab": {
          "base_uri": "https://localhost:8080/"
        },
        "id": "fXs9XHUcWCpr",
        "outputId": "1067d52f-0f1f-4e93-f5f8-b96134ff6d31"
      },
      "source": [
        "result = sentiment_analysis(pos_text)[0]\n",
        "print(\"Label:\", result['label'])\n",
        "print(\"Confidence Score:\", result['score'])\n",
        "print()\n",
        "result = sentiment_analysis(neg_text)[0]\n",
        "print(\"Label:\", result['label'])\n",
        "print(\"Confidence Score:\", result['score'])"
      ],
      "execution_count": 18,
      "outputs": [
        {
          "output_type": "stream",
          "text": [
            "Label: POSITIVE\n",
            "Confidence Score: 0.99933260679245\n",
            "\n",
            "Label: NEGATIVE\n",
            "Confidence Score: 0.9997295141220093\n"
          ],
          "name": "stdout"
        }
      ]
    },
    {
      "cell_type": "code",
      "metadata": {
        "id": "qdqXmaliWDnE"
      },
      "source": [
        ""
      ],
      "execution_count": null,
      "outputs": []
    }
  ]
}